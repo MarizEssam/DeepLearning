{
  "cells": [
    {
      "cell_type": "markdown",
      "id": "5b0d534c",
      "metadata": {
        "id": "5b0d534c"
      },
      "source": [
        "## Name: Mariz Essam Sobhy Ghaly\n",
        "## ID: 1808421"
      ]
    },
    {
      "cell_type": "markdown",
      "id": "b0ce1a26",
      "metadata": {
        "id": "b0ce1a26"
      },
      "source": [
        "---"
      ]
    },
    {
      "cell_type": "code",
      "execution_count": null,
      "id": "303b3119",
      "metadata": {
        "id": "303b3119"
      },
      "outputs": [],
      "source": [
        "import pandas as pd #data manpulation\n",
        "import numpy as np\n",
        "import matplotlib.pyplot as plt #data visualization\n",
        "import seaborn as sns\n",
        "import scipy\n",
        "\n",
        "# 1) Cleaning + EDA + Standarization + Encoding \n",
        "import chardet #to detetmine dataset encoding\n",
        "\n",
        "#preprocessing: replace numeric and categorical\n",
        "from sklearn.impute import SimpleImputer\n",
        "from sklearn.preprocessing import LabelEncoder # label (ordinal or nominal)\n",
        "from sklearn.preprocessing import OrdinalEncoder # object (no order)\n",
        "from sklearn.preprocessing import OneHotEncoder # categorical \n",
        "\n",
        "# data imbalanced\n",
        "from imblearn.datasets import make_imbalance # undersampling\n",
        "from sklearn.utils import resample # oversampling\n",
        "from imblearn.over_sampling import SMOTE # SMOTE\n",
        "\n",
        "# 2) Standarize nad change dist of features\n",
        "from sklearn.preprocessing import StandardScaler # scaling data so mean = 0 and std =  1 by ((x- u) / std)\n",
        "from scipy import stats # for Box-Cox Transformation stats.boxcox(original_data)[0]\n",
        "from mlxtend.preprocessing import minmax_scaling # for min_max scaling dont use it\n",
        "#or\n",
        "from sklearn.preprocessing import MinMaxScaler,normalize  #Tune input range to be 0 -> 1 by MinMaxScaler, same as above\n",
        "\n",
        "\n",
        "# 3) feature enginerring\n",
        "from sklearn.feature_selection import mutual_info_regression #mutal importance of feature\n",
        "from sklearn.feature_selection import RFE, RFECV \n",
        "# a) numeric feature enginering\n",
        "from sklearn.cluster import KMeans # Kmeans model for cluster feature\n",
        "from sklearn.decomposition import PCA # for loadings and adding new feature\n",
        "# b) categorical feature enginering\n",
        "from category_encoders import MEstimateEncoder # have m estimator\n",
        "\n",
        "\n",
        "# 4) Data Modeling = train test split then model then get error\n",
        "from sklearn.model_selection import train_test_split, GridSearchCV, KFold, ShuffleSplit #also has cross_val_score (cv)\n",
        "from sklearn.model_selection import RepeatedKFold # k fold cross validation it specify cv in corss_val_score dw\n",
        "from sklearn.model_selection import cross_val_score # cv to get mean and see how much this feature affect the MAE error\n",
        "# ML algorithms\n",
        "from sklearn.linear_model import LinearRegression\n",
        "from sklearn.neighbors import KNeighborsClassifier\n",
        "from sklearn.svm import SVC, LinearSVC\n",
        "from sklearn.naive_bayes import GaussianNB\n",
        "from sklearn.tree import DecisionTreeRegressor, DecisionTreeClassifier\n",
        "from sklearn.ensemble import RandomForestRegressor, RandomForestClassifier\n",
        "from xgboost import XGBRegressor, XGBClassifier\n",
        "# Evaluation for model\n",
        "from sklearn.metrics import *\n",
        "from sklearn.metrics import mean_absolute_error, mean_squared_error\n",
        "#for accurace of regression use model.score(X_test, y_test) mean_absolute_error, mean_squared_error\n",
        "\n",
        "from sklearn.metrics import precision_score, recall_score, confusion_matrix, classification_report, accuracy_score, f1_score, auc\n",
        "from sklearn.metrics import precision_recall_curve\n",
        "from sklearn.metrics import plot_precision_recall_curve\n",
        "#for accurace of classification use precision, recall, f1, acc, classification_report, confusion_matrix, roc_curve (tpr, fpr) & roc_auc_score (AUC)\n",
        "\n",
        "# you can use (cross_val_score == KFold) (like validation_split=0.1 to get validation_acc) for calssification or regression\n",
        "\n",
        "#pipeline\n",
        "from sklearn.pipeline import Pipeline, make_pipeline\n",
        "from sklearn.compose import ColumnTransformer, make_column_transformer\n",
        "\n",
        "# 5) Model summary = features importance and effect + sharp values\n",
        "import eli5\n",
        "from eli5.sklearn import PermutationImportance # feature importance\n",
        "# from pdpbox import pdp, get_dataset, info_plots #for pdp plots\n",
        "import shap  # package used to calculate Shap values\n",
        "import time\n",
        "\n",
        "# 6) DNN & images & audio visualize\n",
        "import tensorflow as tf\n",
        "import cv2\n",
        "import IPython"
      ]
    },
    {
      "cell_type": "code",
      "execution_count": null,
      "id": "35e4b94b",
      "metadata": {
        "id": "35e4b94b",
        "outputId": "a6d350a2-df03-4c58-be85-876b5922e780"
      },
      "outputs": [
        {
          "name": "stdout",
          "output_type": "stream",
          "text": [
            "{'encoding': 'ascii', 'confidence': 1.0, 'language': ''}\n"
          ]
        }
      ],
      "source": [
        "data = open('winequality-red.csv', 'rb')\n",
        "result = chardet.detect(data.read(10000))\n",
        "print(result)"
      ]
    },
    {
      "cell_type": "code",
      "execution_count": null,
      "id": "7c89e03d",
      "metadata": {
        "id": "7c89e03d",
        "outputId": "8633ef04-59db-44fd-b9c0-ce1e1252215d"
      },
      "outputs": [
        {
          "data": {
            "text/html": [
              "<div>\n",
              "<style scoped>\n",
              "    .dataframe tbody tr th:only-of-type {\n",
              "        vertical-align: middle;\n",
              "    }\n",
              "\n",
              "    .dataframe tbody tr th {\n",
              "        vertical-align: top;\n",
              "    }\n",
              "\n",
              "    .dataframe thead th {\n",
              "        text-align: right;\n",
              "    }\n",
              "</style>\n",
              "<table border=\"1\" class=\"dataframe\">\n",
              "  <thead>\n",
              "    <tr style=\"text-align: right;\">\n",
              "      <th></th>\n",
              "      <th>fixed acidity</th>\n",
              "      <th>volatile acidity</th>\n",
              "      <th>citric acid</th>\n",
              "      <th>residual sugar</th>\n",
              "      <th>chlorides</th>\n",
              "      <th>free sulfur dioxide</th>\n",
              "      <th>total sulfur dioxide</th>\n",
              "      <th>density</th>\n",
              "      <th>pH</th>\n",
              "      <th>sulphates</th>\n",
              "      <th>alcohol</th>\n",
              "      <th>quality</th>\n",
              "    </tr>\n",
              "  </thead>\n",
              "  <tbody>\n",
              "    <tr>\n",
              "      <th>0</th>\n",
              "      <td>7.4</td>\n",
              "      <td>0.700</td>\n",
              "      <td>0.00</td>\n",
              "      <td>1.9</td>\n",
              "      <td>0.076</td>\n",
              "      <td>11.0</td>\n",
              "      <td>34.0</td>\n",
              "      <td>0.99780</td>\n",
              "      <td>3.51</td>\n",
              "      <td>0.56</td>\n",
              "      <td>9.4</td>\n",
              "      <td>5</td>\n",
              "    </tr>\n",
              "    <tr>\n",
              "      <th>1</th>\n",
              "      <td>7.8</td>\n",
              "      <td>0.880</td>\n",
              "      <td>0.00</td>\n",
              "      <td>2.6</td>\n",
              "      <td>0.098</td>\n",
              "      <td>25.0</td>\n",
              "      <td>67.0</td>\n",
              "      <td>0.99680</td>\n",
              "      <td>3.20</td>\n",
              "      <td>0.68</td>\n",
              "      <td>9.8</td>\n",
              "      <td>5</td>\n",
              "    </tr>\n",
              "    <tr>\n",
              "      <th>2</th>\n",
              "      <td>7.8</td>\n",
              "      <td>0.760</td>\n",
              "      <td>0.04</td>\n",
              "      <td>2.3</td>\n",
              "      <td>0.092</td>\n",
              "      <td>15.0</td>\n",
              "      <td>54.0</td>\n",
              "      <td>0.99700</td>\n",
              "      <td>3.26</td>\n",
              "      <td>0.65</td>\n",
              "      <td>9.8</td>\n",
              "      <td>5</td>\n",
              "    </tr>\n",
              "    <tr>\n",
              "      <th>3</th>\n",
              "      <td>11.2</td>\n",
              "      <td>0.280</td>\n",
              "      <td>0.56</td>\n",
              "      <td>1.9</td>\n",
              "      <td>0.075</td>\n",
              "      <td>17.0</td>\n",
              "      <td>60.0</td>\n",
              "      <td>0.99800</td>\n",
              "      <td>3.16</td>\n",
              "      <td>0.58</td>\n",
              "      <td>9.8</td>\n",
              "      <td>6</td>\n",
              "    </tr>\n",
              "    <tr>\n",
              "      <th>4</th>\n",
              "      <td>7.4</td>\n",
              "      <td>0.700</td>\n",
              "      <td>0.00</td>\n",
              "      <td>1.9</td>\n",
              "      <td>0.076</td>\n",
              "      <td>11.0</td>\n",
              "      <td>34.0</td>\n",
              "      <td>0.99780</td>\n",
              "      <td>3.51</td>\n",
              "      <td>0.56</td>\n",
              "      <td>9.4</td>\n",
              "      <td>5</td>\n",
              "    </tr>\n",
              "    <tr>\n",
              "      <th>...</th>\n",
              "      <td>...</td>\n",
              "      <td>...</td>\n",
              "      <td>...</td>\n",
              "      <td>...</td>\n",
              "      <td>...</td>\n",
              "      <td>...</td>\n",
              "      <td>...</td>\n",
              "      <td>...</td>\n",
              "      <td>...</td>\n",
              "      <td>...</td>\n",
              "      <td>...</td>\n",
              "      <td>...</td>\n",
              "    </tr>\n",
              "    <tr>\n",
              "      <th>1594</th>\n",
              "      <td>6.2</td>\n",
              "      <td>0.600</td>\n",
              "      <td>0.08</td>\n",
              "      <td>2.0</td>\n",
              "      <td>0.090</td>\n",
              "      <td>32.0</td>\n",
              "      <td>44.0</td>\n",
              "      <td>0.99490</td>\n",
              "      <td>3.45</td>\n",
              "      <td>0.58</td>\n",
              "      <td>10.5</td>\n",
              "      <td>5</td>\n",
              "    </tr>\n",
              "    <tr>\n",
              "      <th>1595</th>\n",
              "      <td>5.9</td>\n",
              "      <td>0.550</td>\n",
              "      <td>0.10</td>\n",
              "      <td>2.2</td>\n",
              "      <td>0.062</td>\n",
              "      <td>39.0</td>\n",
              "      <td>51.0</td>\n",
              "      <td>0.99512</td>\n",
              "      <td>3.52</td>\n",
              "      <td>0.76</td>\n",
              "      <td>11.2</td>\n",
              "      <td>6</td>\n",
              "    </tr>\n",
              "    <tr>\n",
              "      <th>1596</th>\n",
              "      <td>6.3</td>\n",
              "      <td>0.510</td>\n",
              "      <td>0.13</td>\n",
              "      <td>2.3</td>\n",
              "      <td>0.076</td>\n",
              "      <td>29.0</td>\n",
              "      <td>40.0</td>\n",
              "      <td>0.99574</td>\n",
              "      <td>3.42</td>\n",
              "      <td>0.75</td>\n",
              "      <td>11.0</td>\n",
              "      <td>6</td>\n",
              "    </tr>\n",
              "    <tr>\n",
              "      <th>1597</th>\n",
              "      <td>5.9</td>\n",
              "      <td>0.645</td>\n",
              "      <td>0.12</td>\n",
              "      <td>2.0</td>\n",
              "      <td>0.075</td>\n",
              "      <td>32.0</td>\n",
              "      <td>44.0</td>\n",
              "      <td>0.99547</td>\n",
              "      <td>3.57</td>\n",
              "      <td>0.71</td>\n",
              "      <td>10.2</td>\n",
              "      <td>5</td>\n",
              "    </tr>\n",
              "    <tr>\n",
              "      <th>1598</th>\n",
              "      <td>6.0</td>\n",
              "      <td>0.310</td>\n",
              "      <td>0.47</td>\n",
              "      <td>3.6</td>\n",
              "      <td>0.067</td>\n",
              "      <td>18.0</td>\n",
              "      <td>42.0</td>\n",
              "      <td>0.99549</td>\n",
              "      <td>3.39</td>\n",
              "      <td>0.66</td>\n",
              "      <td>11.0</td>\n",
              "      <td>6</td>\n",
              "    </tr>\n",
              "  </tbody>\n",
              "</table>\n",
              "<p>1599 rows × 12 columns</p>\n",
              "</div>"
            ],
            "text/plain": [
              "      fixed acidity  volatile acidity  citric acid  residual sugar  chlorides  \\\n",
              "0               7.4             0.700         0.00             1.9      0.076   \n",
              "1               7.8             0.880         0.00             2.6      0.098   \n",
              "2               7.8             0.760         0.04             2.3      0.092   \n",
              "3              11.2             0.280         0.56             1.9      0.075   \n",
              "4               7.4             0.700         0.00             1.9      0.076   \n",
              "...             ...               ...          ...             ...        ...   \n",
              "1594            6.2             0.600         0.08             2.0      0.090   \n",
              "1595            5.9             0.550         0.10             2.2      0.062   \n",
              "1596            6.3             0.510         0.13             2.3      0.076   \n",
              "1597            5.9             0.645         0.12             2.0      0.075   \n",
              "1598            6.0             0.310         0.47             3.6      0.067   \n",
              "\n",
              "      free sulfur dioxide  total sulfur dioxide  density    pH  sulphates  \\\n",
              "0                    11.0                  34.0  0.99780  3.51       0.56   \n",
              "1                    25.0                  67.0  0.99680  3.20       0.68   \n",
              "2                    15.0                  54.0  0.99700  3.26       0.65   \n",
              "3                    17.0                  60.0  0.99800  3.16       0.58   \n",
              "4                    11.0                  34.0  0.99780  3.51       0.56   \n",
              "...                   ...                   ...      ...   ...        ...   \n",
              "1594                 32.0                  44.0  0.99490  3.45       0.58   \n",
              "1595                 39.0                  51.0  0.99512  3.52       0.76   \n",
              "1596                 29.0                  40.0  0.99574  3.42       0.75   \n",
              "1597                 32.0                  44.0  0.99547  3.57       0.71   \n",
              "1598                 18.0                  42.0  0.99549  3.39       0.66   \n",
              "\n",
              "      alcohol  quality  \n",
              "0         9.4        5  \n",
              "1         9.8        5  \n",
              "2         9.8        5  \n",
              "3         9.8        6  \n",
              "4         9.4        5  \n",
              "...       ...      ...  \n",
              "1594     10.5        5  \n",
              "1595     11.2        6  \n",
              "1596     11.0        6  \n",
              "1597     10.2        5  \n",
              "1598     11.0        6  \n",
              "\n",
              "[1599 rows x 12 columns]"
            ]
          },
          "execution_count": 3,
          "metadata": {},
          "output_type": "execute_result"
        }
      ],
      "source": [
        "# could make it using sep easier\n",
        "df = pd.read_csv('winequality-red.csv', encoding=result['encoding'], sep=';')\n",
        "df"
      ]
    },
    {
      "cell_type": "code",
      "execution_count": null,
      "id": "2118dc02",
      "metadata": {
        "id": "2118dc02",
        "outputId": "e8b42b24-963a-47df-eab9-f6f0aa852678"
      },
      "outputs": [
        {
          "name": "stdout",
          "output_type": "stream",
          "text": [
            "<class 'pandas.core.frame.DataFrame'>\n",
            "RangeIndex: 1599 entries, 0 to 1598\n",
            "Data columns (total 12 columns):\n",
            " #   Column                Non-Null Count  Dtype  \n",
            "---  ------                --------------  -----  \n",
            " 0   fixed acidity         1599 non-null   float64\n",
            " 1   volatile acidity      1599 non-null   float64\n",
            " 2   citric acid           1599 non-null   float64\n",
            " 3   residual sugar        1599 non-null   float64\n",
            " 4   chlorides             1599 non-null   float64\n",
            " 5   free sulfur dioxide   1599 non-null   float64\n",
            " 6   total sulfur dioxide  1599 non-null   float64\n",
            " 7   density               1599 non-null   float64\n",
            " 8   pH                    1599 non-null   float64\n",
            " 9   sulphates             1599 non-null   float64\n",
            " 10  alcohol               1599 non-null   float64\n",
            " 11  quality               1599 non-null   int64  \n",
            "dtypes: float64(11), int64(1)\n",
            "memory usage: 150.0 KB\n"
          ]
        }
      ],
      "source": [
        "df.info() # no cleaning needed"
      ]
    },
    {
      "cell_type": "code",
      "execution_count": null,
      "id": "3a7086fd",
      "metadata": {
        "scrolled": true,
        "id": "3a7086fd",
        "outputId": "d101f32e-ff32-45cb-aea7-69f683a8d1d6"
      },
      "outputs": [
        {
          "data": {
            "text/html": [
              "<div>\n",
              "<style scoped>\n",
              "    .dataframe tbody tr th:only-of-type {\n",
              "        vertical-align: middle;\n",
              "    }\n",
              "\n",
              "    .dataframe tbody tr th {\n",
              "        vertical-align: top;\n",
              "    }\n",
              "\n",
              "    .dataframe thead th {\n",
              "        text-align: right;\n",
              "    }\n",
              "</style>\n",
              "<table border=\"1\" class=\"dataframe\">\n",
              "  <thead>\n",
              "    <tr style=\"text-align: right;\">\n",
              "      <th></th>\n",
              "      <th>fixed acidity</th>\n",
              "      <th>volatile acidity</th>\n",
              "      <th>citric acid</th>\n",
              "      <th>residual sugar</th>\n",
              "      <th>chlorides</th>\n",
              "      <th>free sulfur dioxide</th>\n",
              "      <th>total sulfur dioxide</th>\n",
              "      <th>density</th>\n",
              "      <th>pH</th>\n",
              "      <th>sulphates</th>\n",
              "      <th>alcohol</th>\n",
              "      <th>quality</th>\n",
              "    </tr>\n",
              "  </thead>\n",
              "  <tbody>\n",
              "    <tr>\n",
              "      <th>count</th>\n",
              "      <td>1599.000000</td>\n",
              "      <td>1599.000000</td>\n",
              "      <td>1599.000000</td>\n",
              "      <td>1599.000000</td>\n",
              "      <td>1599.000000</td>\n",
              "      <td>1599.000000</td>\n",
              "      <td>1599.000000</td>\n",
              "      <td>1599.000000</td>\n",
              "      <td>1599.000000</td>\n",
              "      <td>1599.000000</td>\n",
              "      <td>1599.000000</td>\n",
              "      <td>1599.000000</td>\n",
              "    </tr>\n",
              "    <tr>\n",
              "      <th>mean</th>\n",
              "      <td>8.319637</td>\n",
              "      <td>0.527821</td>\n",
              "      <td>0.270976</td>\n",
              "      <td>2.538806</td>\n",
              "      <td>0.087467</td>\n",
              "      <td>15.874922</td>\n",
              "      <td>46.467792</td>\n",
              "      <td>0.996747</td>\n",
              "      <td>3.311113</td>\n",
              "      <td>0.658149</td>\n",
              "      <td>10.422983</td>\n",
              "      <td>5.636023</td>\n",
              "    </tr>\n",
              "    <tr>\n",
              "      <th>std</th>\n",
              "      <td>1.741096</td>\n",
              "      <td>0.179060</td>\n",
              "      <td>0.194801</td>\n",
              "      <td>1.409928</td>\n",
              "      <td>0.047065</td>\n",
              "      <td>10.460157</td>\n",
              "      <td>32.895324</td>\n",
              "      <td>0.001887</td>\n",
              "      <td>0.154386</td>\n",
              "      <td>0.169507</td>\n",
              "      <td>1.065668</td>\n",
              "      <td>0.807569</td>\n",
              "    </tr>\n",
              "    <tr>\n",
              "      <th>min</th>\n",
              "      <td>4.600000</td>\n",
              "      <td>0.120000</td>\n",
              "      <td>0.000000</td>\n",
              "      <td>0.900000</td>\n",
              "      <td>0.012000</td>\n",
              "      <td>1.000000</td>\n",
              "      <td>6.000000</td>\n",
              "      <td>0.990070</td>\n",
              "      <td>2.740000</td>\n",
              "      <td>0.330000</td>\n",
              "      <td>8.400000</td>\n",
              "      <td>3.000000</td>\n",
              "    </tr>\n",
              "    <tr>\n",
              "      <th>25%</th>\n",
              "      <td>7.100000</td>\n",
              "      <td>0.390000</td>\n",
              "      <td>0.090000</td>\n",
              "      <td>1.900000</td>\n",
              "      <td>0.070000</td>\n",
              "      <td>7.000000</td>\n",
              "      <td>22.000000</td>\n",
              "      <td>0.995600</td>\n",
              "      <td>3.210000</td>\n",
              "      <td>0.550000</td>\n",
              "      <td>9.500000</td>\n",
              "      <td>5.000000</td>\n",
              "    </tr>\n",
              "    <tr>\n",
              "      <th>50%</th>\n",
              "      <td>7.900000</td>\n",
              "      <td>0.520000</td>\n",
              "      <td>0.260000</td>\n",
              "      <td>2.200000</td>\n",
              "      <td>0.079000</td>\n",
              "      <td>14.000000</td>\n",
              "      <td>38.000000</td>\n",
              "      <td>0.996750</td>\n",
              "      <td>3.310000</td>\n",
              "      <td>0.620000</td>\n",
              "      <td>10.200000</td>\n",
              "      <td>6.000000</td>\n",
              "    </tr>\n",
              "    <tr>\n",
              "      <th>75%</th>\n",
              "      <td>9.200000</td>\n",
              "      <td>0.640000</td>\n",
              "      <td>0.420000</td>\n",
              "      <td>2.600000</td>\n",
              "      <td>0.090000</td>\n",
              "      <td>21.000000</td>\n",
              "      <td>62.000000</td>\n",
              "      <td>0.997835</td>\n",
              "      <td>3.400000</td>\n",
              "      <td>0.730000</td>\n",
              "      <td>11.100000</td>\n",
              "      <td>6.000000</td>\n",
              "    </tr>\n",
              "    <tr>\n",
              "      <th>max</th>\n",
              "      <td>15.900000</td>\n",
              "      <td>1.580000</td>\n",
              "      <td>1.000000</td>\n",
              "      <td>15.500000</td>\n",
              "      <td>0.611000</td>\n",
              "      <td>72.000000</td>\n",
              "      <td>289.000000</td>\n",
              "      <td>1.003690</td>\n",
              "      <td>4.010000</td>\n",
              "      <td>2.000000</td>\n",
              "      <td>14.900000</td>\n",
              "      <td>8.000000</td>\n",
              "    </tr>\n",
              "  </tbody>\n",
              "</table>\n",
              "</div>"
            ],
            "text/plain": [
              "       fixed acidity  volatile acidity  citric acid  residual sugar  \\\n",
              "count    1599.000000       1599.000000  1599.000000     1599.000000   \n",
              "mean        8.319637          0.527821     0.270976        2.538806   \n",
              "std         1.741096          0.179060     0.194801        1.409928   \n",
              "min         4.600000          0.120000     0.000000        0.900000   \n",
              "25%         7.100000          0.390000     0.090000        1.900000   \n",
              "50%         7.900000          0.520000     0.260000        2.200000   \n",
              "75%         9.200000          0.640000     0.420000        2.600000   \n",
              "max        15.900000          1.580000     1.000000       15.500000   \n",
              "\n",
              "         chlorides  free sulfur dioxide  total sulfur dioxide      density  \\\n",
              "count  1599.000000          1599.000000           1599.000000  1599.000000   \n",
              "mean      0.087467            15.874922             46.467792     0.996747   \n",
              "std       0.047065            10.460157             32.895324     0.001887   \n",
              "min       0.012000             1.000000              6.000000     0.990070   \n",
              "25%       0.070000             7.000000             22.000000     0.995600   \n",
              "50%       0.079000            14.000000             38.000000     0.996750   \n",
              "75%       0.090000            21.000000             62.000000     0.997835   \n",
              "max       0.611000            72.000000            289.000000     1.003690   \n",
              "\n",
              "                pH    sulphates      alcohol      quality  \n",
              "count  1599.000000  1599.000000  1599.000000  1599.000000  \n",
              "mean      3.311113     0.658149    10.422983     5.636023  \n",
              "std       0.154386     0.169507     1.065668     0.807569  \n",
              "min       2.740000     0.330000     8.400000     3.000000  \n",
              "25%       3.210000     0.550000     9.500000     5.000000  \n",
              "50%       3.310000     0.620000    10.200000     6.000000  \n",
              "75%       3.400000     0.730000    11.100000     6.000000  \n",
              "max       4.010000     2.000000    14.900000     8.000000  "
            ]
          },
          "execution_count": 5,
          "metadata": {},
          "output_type": "execute_result"
        }
      ],
      "source": [
        "df.describe()"
      ]
    },
    {
      "cell_type": "markdown",
      "id": "9520d78c",
      "metadata": {
        "id": "9520d78c"
      },
      "source": [
        "# Visualization"
      ]
    },
    {
      "cell_type": "code",
      "execution_count": null,
      "id": "d5243f94",
      "metadata": {
        "scrolled": true,
        "id": "d5243f94",
        "outputId": "996105aa-005b-4a02-caaa-2295316c42bb"
      },
      "outputs": [
        {
          "data": {
            "image/png": "[encoded data removed]",
            "text/plain": [
              "<Figure size 432x288 with 1 Axes>"
            ]
          },
          "metadata": {
            "needs_background": "light"
          },
          "output_type": "display_data"
        },
        {
          "data": {
            "image/png": "[encoded data removed]",
            "text/plain": [
              "<Figure size 432x288 with 1 Axes>"
            ]
          },
          "metadata": {
            "needs_background": "light"
          },
          "output_type": "display_data"
        },
        {
          "data": {
            "image/png": "[encoded data removed]",
            "text/plain": [
              "<Figure size 432x288 with 1 Axes>"
            ]
          },
          "metadata": {
            "needs_background": "light"
          },
          "output_type": "display_data"
        },
        {
          "data": {
            "image/png": "[encoded data removed]",
            "text/plain": [
              "<Figure size 432x288 with 1 Axes>"
            ]
          },
          "metadata": {
            "needs_background": "light"
          },
          "output_type": "display_data"
        },
        {
          "data": {
            "image/png": "[encoded data removed]",
            "text/plain": [
              "<Figure size 432x288 with 1 Axes>"
            ]
          },
          "metadata": {
            "needs_background": "light"
          },
          "output_type": "display_data"
        },
        {
          "data": {
            "image/png": "[encoded data removed]",
            "text/plain": [
              "<Figure size 432x288 with 1 Axes>"
            ]
          },
          "metadata": {
            "needs_background": "light"
          },
          "output_type": "display_data"
        },
        {
          "data": {
            "image/png": "[encoded data removed]",
            "text/plain": [
              "<Figure size 432x288 with 1 Axes>"
            ]
          },
          "metadata": {
            "needs_background": "light"
          },
          "output_type": "display_data"
        },
        {
          "data": {
            "image/png": "[encoded data removed]",
            "text/plain": [
              "<Figure size 432x288 with 1 Axes>"
            ]
          },
          "metadata": {
            "needs_background": "light"
          },
          "output_type": "display_data"
        },
        {
          "data": {
            "image/png": "[encoded data removed]",
            "text/plain": [
              "<Figure size 432x288 with 1 Axes>"
            ]
          },
          "metadata": {
            "needs_background": "light"
          },
          "output_type": "display_data"
        },
        {
          "data": {
            "image/png": "[encoded data removed]",
            "text/plain": [
              "<Figure size 432x288 with 1 Axes>"
            ]
          },
          "metadata": {
            "needs_background": "light"
          },
          "output_type": "display_data"
        },
        {
          "data": {
            "image/png": "[encoded data removed]",
            "text/plain": [
              "<Figure size 432x288 with 1 Axes>"
            ]
          },
          "metadata": {
            "needs_background": "light"
          },
          "output_type": "display_data"
        }
      ],
      "source": [
        "# dist are normal so this is good\n",
        "columns = list(df.columns) # no Encoding needed\n",
        "columns.remove('quality')\n",
        "for col in columns:\n",
        "    sns.histplot(df[col])\n",
        "    plt.show()"
      ]
    },
    {
      "cell_type": "code",
      "execution_count": null,
      "id": "2c24bb6d",
      "metadata": {
        "scrolled": true,
        "id": "2c24bb6d",
        "outputId": "e6c5f116-8370-42a9-d072-07457230f62e"
      },
      "outputs": [
        {
          "data": {
            "text/plain": [
              "<AxesSubplot:>"
            ]
          },
          "execution_count": 7,
          "metadata": {},
          "output_type": "execute_result"
        },
        {
          "data": {
            "image/png": "[encoded data removed]",
            "text/plain": [
              "<Figure size 1008x1008 with 2 Axes>"
            ]
          },
          "metadata": {
            "needs_background": "light"
          },
          "output_type": "display_data"
        }
      ],
      "source": [
        "plt.figure(figsize=(14, 14))\n",
        "corr_matrix = df.corr()\n",
        "sns.heatmap(corr_matrix, annot=True) # no corr"
      ]
    },
    {
      "cell_type": "code",
      "execution_count": null,
      "id": "aae66abd",
      "metadata": {
        "id": "aae66abd",
        "outputId": "34cae647-be82-40ab-c3a1-87cd9c64bba8"
      },
      "outputs": [
        {
          "name": "stdout",
          "output_type": "stream",
          "text": [
            "1279 1279 320 320\n"
          ]
        }
      ],
      "source": [
        "# to prevent data leakage\n",
        "y = df['quality']\n",
        "X = df.drop('quality', axis=1)\n",
        "columns = X.columns\n",
        "X_train, X_test, y_train, y_test = train_test_split(X, y, test_size=0.2, shuffle=True)\n",
        "X_train = pd.DataFrame(X_train, columns=columns)\n",
        "X_test = pd.DataFrame(X_test, columns=columns)\n",
        "print(len(X_train), len(y_train), len(X_test), len(y_test))"
      ]
    },
    {
      "cell_type": "markdown",
      "id": "0515157d",
      "metadata": {
        "id": "0515157d"
      },
      "source": [
        "---"
      ]
    },
    {
      "cell_type": "markdown",
      "id": "280c69af",
      "metadata": {
        "id": "280c69af"
      },
      "source": [
        "# Modeling"
      ]
    },
    {
      "cell_type": "code",
      "execution_count": null,
      "id": "7ed992db",
      "metadata": {
        "id": "7ed992db",
        "outputId": "53d46ed2-f7ff-4e4d-9f24-b60c78039015"
      },
      "outputs": [
        {
          "data": {
            "text/html": [
              "<div>\n",
              "<style scoped>\n",
              "    .dataframe tbody tr th:only-of-type {\n",
              "        vertical-align: middle;\n",
              "    }\n",
              "\n",
              "    .dataframe tbody tr th {\n",
              "        vertical-align: top;\n",
              "    }\n",
              "\n",
              "    .dataframe thead th {\n",
              "        text-align: right;\n",
              "    }\n",
              "</style>\n",
              "<table border=\"1\" class=\"dataframe\">\n",
              "  <thead>\n",
              "    <tr style=\"text-align: right;\">\n",
              "      <th></th>\n",
              "      <th>fixed acidity</th>\n",
              "      <th>volatile acidity</th>\n",
              "      <th>citric acid</th>\n",
              "      <th>residual sugar</th>\n",
              "      <th>chlorides</th>\n",
              "      <th>free sulfur dioxide</th>\n",
              "      <th>total sulfur dioxide</th>\n",
              "      <th>density</th>\n",
              "      <th>pH</th>\n",
              "      <th>sulphates</th>\n",
              "      <th>alcohol</th>\n",
              "    </tr>\n",
              "  </thead>\n",
              "  <tbody>\n",
              "    <tr>\n",
              "      <th>count</th>\n",
              "      <td>1.279000e+03</td>\n",
              "      <td>1.279000e+03</td>\n",
              "      <td>1.279000e+03</td>\n",
              "      <td>1.279000e+03</td>\n",
              "      <td>1.279000e+03</td>\n",
              "      <td>1.279000e+03</td>\n",
              "      <td>1.279000e+03</td>\n",
              "      <td>1.279000e+03</td>\n",
              "      <td>1.279000e+03</td>\n",
              "      <td>1.279000e+03</td>\n",
              "      <td>1.279000e+03</td>\n",
              "    </tr>\n",
              "    <tr>\n",
              "      <th>mean</th>\n",
              "      <td>-2.499955e-16</td>\n",
              "      <td>-3.847153e-16</td>\n",
              "      <td>-1.472196e-16</td>\n",
              "      <td>-1.166646e-16</td>\n",
              "      <td>-1.944409e-17</td>\n",
              "      <td>-6.944319e-18</td>\n",
              "      <td>9.374831e-17</td>\n",
              "      <td>6.282109e-14</td>\n",
              "      <td>3.458271e-15</td>\n",
              "      <td>-1.305532e-16</td>\n",
              "      <td>-1.638859e-16</td>\n",
              "    </tr>\n",
              "    <tr>\n",
              "      <th>std</th>\n",
              "      <td>1.000391e+00</td>\n",
              "      <td>1.000391e+00</td>\n",
              "      <td>1.000391e+00</td>\n",
              "      <td>1.000391e+00</td>\n",
              "      <td>1.000391e+00</td>\n",
              "      <td>1.000391e+00</td>\n",
              "      <td>1.000391e+00</td>\n",
              "      <td>1.000391e+00</td>\n",
              "      <td>1.000391e+00</td>\n",
              "      <td>1.000391e+00</td>\n",
              "      <td>1.000391e+00</td>\n",
              "    </tr>\n",
              "    <tr>\n",
              "      <th>min</th>\n",
              "      <td>-2.108170e+00</td>\n",
              "      <td>-2.293214e+00</td>\n",
              "      <td>-1.391753e+00</td>\n",
              "      <td>-1.126684e+00</td>\n",
              "      <td>-1.635528e+00</td>\n",
              "      <td>-1.421389e+00</td>\n",
              "      <td>-1.233206e+00</td>\n",
              "      <td>-3.495614e+00</td>\n",
              "      <td>-3.735098e+00</td>\n",
              "      <td>-1.917854e+00</td>\n",
              "      <td>-1.859883e+00</td>\n",
              "    </tr>\n",
              "    <tr>\n",
              "      <th>25%</th>\n",
              "      <td>-6.810769e-01</td>\n",
              "      <td>-7.284444e-01</td>\n",
              "      <td>-9.261367e-01</td>\n",
              "      <td>-4.445079e-01</td>\n",
              "      <td>-3.652905e-01</td>\n",
              "      <td>-7.566538e-01</td>\n",
              "      <td>-7.559773e-01</td>\n",
              "      <td>-5.953707e-01</td>\n",
              "      <td>-6.626135e-01</td>\n",
              "      <td>-6.170641e-01</td>\n",
              "      <td>-8.382653e-01</td>\n",
              "    </tr>\n",
              "    <tr>\n",
              "      <th>50%</th>\n",
              "      <td>-2.244072e-01</td>\n",
              "      <td>-5.782900e-02</td>\n",
              "      <td>-9.837371e-02</td>\n",
              "      <td>-2.398551e-01</td>\n",
              "      <td>-1.681846e-01</td>\n",
              "      <td>-1.868803e-01</td>\n",
              "      <td>-3.085755e-01</td>\n",
              "      <td>-7.979609e-03</td>\n",
              "      <td>-8.893456e-03</td>\n",
              "      <td>-2.031762e-01</td>\n",
              "      <td>-2.810193e-01</td>\n",
              "    </tr>\n",
              "    <tr>\n",
              "      <th>75%</th>\n",
              "      <td>4.891391e-01</td>\n",
              "      <td>6.127864e-01</td>\n",
              "      <td>7.811245e-01</td>\n",
              "      <td>3.301541e-02</td>\n",
              "      <td>7.272248e-02</td>\n",
              "      <td>4.778553e-01</td>\n",
              "      <td>5.265745e-01</td>\n",
              "      <td>5.584332e-01</td>\n",
              "      <td>5.794546e-01</td>\n",
              "      <td>3.880921e-01</td>\n",
              "      <td>5.548497e-01</td>\n",
              "    </tr>\n",
              "    <tr>\n",
              "      <th>max</th>\n",
              "      <td>4.342289e+00</td>\n",
              "      <td>5.865941e+00</td>\n",
              "      <td>3.781765e+00</td>\n",
              "      <td>8.833088e+00</td>\n",
              "      <td>1.148296e+01</td>\n",
              "      <td>5.320929e+00</td>\n",
              "      <td>7.207775e+00</td>\n",
              "      <td>3.647481e+00</td>\n",
              "      <td>4.567147e+00</td>\n",
              "      <td>7.956326e+00</td>\n",
              "      <td>4.176949e+00</td>\n",
              "    </tr>\n",
              "  </tbody>\n",
              "</table>\n",
              "</div>"
            ],
            "text/plain": [
              "       fixed acidity  volatile acidity   citric acid  residual sugar  \\\n",
              "count   1.279000e+03      1.279000e+03  1.279000e+03    1.279000e+03   \n",
              "mean   -2.499955e-16     -3.847153e-16 -1.472196e-16   -1.166646e-16   \n",
              "std     1.000391e+00      1.000391e+00  1.000391e+00    1.000391e+00   \n",
              "min    -2.108170e+00     -2.293214e+00 -1.391753e+00   -1.126684e+00   \n",
              "25%    -6.810769e-01     -7.284444e-01 -9.261367e-01   -4.445079e-01   \n",
              "50%    -2.244072e-01     -5.782900e-02 -9.837371e-02   -2.398551e-01   \n",
              "75%     4.891391e-01      6.127864e-01  7.811245e-01    3.301541e-02   \n",
              "max     4.342289e+00      5.865941e+00  3.781765e+00    8.833088e+00   \n",
              "\n",
              "          chlorides  free sulfur dioxide  total sulfur dioxide       density  \\\n",
              "count  1.279000e+03         1.279000e+03          1.279000e+03  1.279000e+03   \n",
              "mean  -1.944409e-17        -6.944319e-18          9.374831e-17  6.282109e-14   \n",
              "std    1.000391e+00         1.000391e+00          1.000391e+00  1.000391e+00   \n",
              "min   -1.635528e+00        -1.421389e+00         -1.233206e+00 -3.495614e+00   \n",
              "25%   -3.652905e-01        -7.566538e-01         -7.559773e-01 -5.953707e-01   \n",
              "50%   -1.681846e-01        -1.868803e-01         -3.085755e-01 -7.979609e-03   \n",
              "75%    7.272248e-02         4.778553e-01          5.265745e-01  5.584332e-01   \n",
              "max    1.148296e+01         5.320929e+00          7.207775e+00  3.647481e+00   \n",
              "\n",
              "                 pH     sulphates       alcohol  \n",
              "count  1.279000e+03  1.279000e+03  1.279000e+03  \n",
              "mean   3.458271e-15 -1.305532e-16 -1.638859e-16  \n",
              "std    1.000391e+00  1.000391e+00  1.000391e+00  \n",
              "min   -3.735098e+00 -1.917854e+00 -1.859883e+00  \n",
              "25%   -6.626135e-01 -6.170641e-01 -8.382653e-01  \n",
              "50%   -8.893456e-03 -2.031762e-01 -2.810193e-01  \n",
              "75%    5.794546e-01  3.880921e-01  5.548497e-01  \n",
              "max    4.567147e+00  7.956326e+00  4.176949e+00  "
            ]
          },
          "execution_count": 9,
          "metadata": {},
          "output_type": "execute_result"
        }
      ],
      "source": [
        "std_scaler = StandardScaler()\n",
        "X_train = std_scaler.fit_transform(X_train)\n",
        "X_test = std_scaler.transform(X_test)\n",
        "columns_name = list(df.columns)\n",
        "columns_name.remove('quality')\n",
        "X_train = pd.DataFrame(X_train, columns=columns_name)\n",
        "X_test = pd.DataFrame(X_test, columns=columns_name)\n",
        "X_train.describe()"
      ]
    },
    {
      "cell_type": "code",
      "execution_count": null,
      "id": "6c7c5e4b",
      "metadata": {
        "scrolled": false,
        "id": "6c7c5e4b",
        "outputId": "16fbdb35-b5d3-4c5f-9254-bd963635cb85"
      },
      "outputs": [
        {
          "data": {
            "text/plain": [
              "580     5\n",
              "311     6\n",
              "210     6\n",
              "516     6\n",
              "1220    6\n",
              "       ..\n",
              "1205    7\n",
              "1125    7\n",
              "144     6\n",
              "1285    5\n",
              "753     5\n",
              "Name: quality, Length: 1279, dtype: int64"
            ]
          },
          "execution_count": 10,
          "metadata": {},
          "output_type": "execute_result"
        }
      ],
      "source": [
        "y_train # quality so it's regresion problem"
      ]
    },
    {
      "cell_type": "code",
      "execution_count": null,
      "id": "145d2cdb",
      "metadata": {
        "scrolled": true,
        "id": "145d2cdb",
        "outputId": "bd57afe6-3c4c-4d24-d22f-6fde7b236901"
      },
      "outputs": [
        {
          "data": {
            "text/plain": [
              "5    569\n",
              "6    497\n",
              "7    145\n",
              "4     44\n",
              "8     15\n",
              "3      9\n",
              "Name: quality, dtype: int64"
            ]
          },
          "execution_count": 11,
          "metadata": {},
          "output_type": "execute_result"
        }
      ],
      "source": [
        "y_train.value_counts()"
      ]
    },
    {
      "cell_type": "markdown",
      "id": "eaa3d41a",
      "metadata": {
        "id": "eaa3d41a"
      },
      "source": [
        "## Modeling"
      ]
    },
    {
      "cell_type": "code",
      "execution_count": null,
      "id": "604da60c",
      "metadata": {
        "id": "604da60c",
        "outputId": "8a6b0b94-9c4a-43d9-d6fc-f1d6032ecfee"
      },
      "outputs": [
        {
          "data": {
            "text/plain": [
              "11"
            ]
          },
          "execution_count": 12,
          "metadata": {},
          "output_type": "execute_result"
        }
      ],
      "source": [
        "l = len(X_train.columns)\n",
        "l"
      ]
    },
    {
      "cell_type": "code",
      "execution_count": null,
      "id": "65ff7fde",
      "metadata": {
        "id": "65ff7fde"
      },
      "outputs": [],
      "source": [
        "# Tensor Board\n",
        "# at terminal write (tensorboard --logdir=./Graph/)\n",
        "import tensorboard as tb\n",
        "tb_call_back = tf.keras.callbacks.TensorBoard(log_dir='./lr_Graph', histogram_freq=1, write_graph=True, write_images=True)\n",
        "# new directory(folder) Graph have 2 folders (train - valid) each have (histogram_freq=1 so data after each epoch of training)\n",
        "# write_graph = True, so visualize graphs. write_images = True so weights are stored."
      ]
    },
    {
      "cell_type": "code",
      "execution_count": null,
      "id": "10336a20",
      "metadata": {
        "id": "10336a20"
      },
      "outputs": [],
      "source": [
        "from tensorflow.keras.callbacks import EarlyStopping\n",
        "\n",
        "early_stopping = EarlyStopping(monitor='val_mse', patience=100)"
      ]
    },
    {
      "cell_type": "code",
      "execution_count": null,
      "id": "633a30f0",
      "metadata": {
        "id": "633a30f0"
      },
      "outputs": [],
      "source": [
        "def wines_classifier_model(hidden_units = 30, args = {}):\n",
        "    my_input = tf.keras.Input(shape=(l,)) # default is relu\n",
        "    x = tf.keras.layers.Dense(64, activation='relu', kernel_initializer= 'he_normal', bias_initializer= 'zeros', **args)(my_input)\n",
        "    x = tf.keras.layers.Dropout(0.3)(x)\n",
        "    x = tf.keras.layers.Dense(32, activation='relu', kernel_initializer= 'he_normal', bias_initializer= 'zeros', **args)(x)\n",
        "    x = tf.keras.layers.Dense(1, activation='linear', kernel_initializer= 'he_normal', bias_initializer= 'zeros', **args)(x)\n",
        "    model = tf.keras.Model(inputs= my_input, outputs=[x])\n",
        "    return model"
      ]
    },
    {
      "cell_type": "code",
      "execution_count": null,
      "id": "adc1143f",
      "metadata": {
        "scrolled": true,
        "id": "adc1143f",
        "outputId": "b2df7156-7168-4d19-9148-54dd23ce1efb"
      },
      "outputs": [
        {
          "name": "stdout",
          "output_type": "stream",
          "text": [
            "Epoch 1/1000\n",
            "36/36 [==============================] - 3s 17ms/step - loss: 16.4187 - mse: 16.4187 - mae: 3.6703 - val_loss: 5.8163 - val_mse: 5.8163 - val_mae: 2.1058\n",
            "Epoch 2/1000\n",
            "36/36 [==============================] - 0s 9ms/step - loss: 6.0152 - mse: 6.0152 - mae: 1.9726 - val_loss: 3.4846 - val_mse: 3.4846 - val_mae: 1.5480\n",
            "Epoch 3/1000\n",
            "36/36 [==============================] - 0s 13ms/step - loss: 4.4323 - mse: 4.4323 - mae: 1.6994 - val_loss: 2.8775 - val_mse: 2.8775 - val_mae: 1.3782\n",
            "Epoch 4/1000\n",
            "36/36 [==============================] - 0s 11ms/step - loss: 3.8547 - mse: 3.8547 - mae: 1.5974 - val_loss: 2.5861 - val_mse: 2.5861 - val_mae: 1.3145\n",
            "Epoch 5/1000\n",
            "36/36 [==============================] - 0s 11ms/step - loss: 3.5802 - mse: 3.5802 - mae: 1.4984 - val_loss: 2.3489 - val_mse: 2.3489 - val_mae: 1.2421\n",
            "Epoch 6/1000\n",
            "36/36 [==============================] - 0s 10ms/step - loss: 3.4852 - mse: 3.4852 - mae: 1.5118 - val_loss: 2.1415 - val_mse: 2.1415 - val_mae: 1.1748\n",
            "Epoch 7/1000\n",
            "36/36 [==============================] - 1s 17ms/step - loss: 3.0631 - mse: 3.0631 - mae: 1.3748 - val_loss: 2.0312 - val_mse: 2.0312 - val_mae: 1.1456\n",
            "Epoch 8/1000\n",
            "36/36 [==============================] - 0s 11ms/step - loss: 2.9998 - mse: 2.9998 - mae: 1.3690 - val_loss: 1.8784 - val_mse: 1.8784 - val_mae: 1.0995\n",
            "Epoch 9/1000\n",
            "36/36 [==============================] - 1s 15ms/step - loss: 2.8925 - mse: 2.8925 - mae: 1.3546 - val_loss: 1.9357 - val_mse: 1.9357 - val_mae: 1.1390\n",
            "Epoch 10/1000\n",
            "36/36 [==============================] - 0s 9ms/step - loss: 2.5390 - mse: 2.5390 - mae: 1.2832 - val_loss: 1.6624 - val_mse: 1.6624 - val_mae: 1.0146\n",
            "Epoch 11/1000\n",
            "36/36 [==============================] - 0s 8ms/step - loss: 2.3064 - mse: 2.3064 - mae: 1.2048 - val_loss: 1.6163 - val_mse: 1.6163 - val_mae: 1.0113\n",
            "Epoch 12/1000\n",
            "36/36 [==============================] - 0s 8ms/step - loss: 2.5120 - mse: 2.5120 - mae: 1.2391 - val_loss: 1.6300 - val_mse: 1.6300 - val_mae: 1.0217\n",
            "Epoch 13/1000\n",
            "36/36 [==============================] - 0s 8ms/step - loss: 2.3279 - mse: 2.3279 - mae: 1.2095 - val_loss: 1.5055 - val_mse: 1.5055 - val_mae: 1.0018\n",
            "Epoch 14/1000\n",
            "36/36 [==============================] - 0s 8ms/step - loss: 2.0590 - mse: 2.0590 - mae: 1.1456 - val_loss: 1.3075 - val_mse: 1.3075 - val_mae: 0.8926\n",
            "Epoch 15/1000\n",
            "36/36 [==============================] - 0s 9ms/step - loss: 2.2669 - mse: 2.2669 - mae: 1.1950 - val_loss: 1.2162 - val_mse: 1.2162 - val_mae: 0.8588\n",
            "Epoch 16/1000\n",
            "36/36 [==============================] - 0s 10ms/step - loss: 1.8862 - mse: 1.8862 - mae: 1.0751 - val_loss: 1.3817 - val_mse: 1.3817 - val_mae: 0.9499\n",
            "Epoch 17/1000\n",
            "36/36 [==============================] - 0s 11ms/step - loss: 1.8808 - mse: 1.8808 - mae: 1.0780 - val_loss: 1.2414 - val_mse: 1.2414 - val_mae: 0.8859\n",
            "Epoch 18/1000\n",
            "36/36 [==============================] - 0s 9ms/step - loss: 1.7683 - mse: 1.7683 - mae: 1.0386 - val_loss: 1.1064 - val_mse: 1.1064 - val_mae: 0.8478\n",
            "Epoch 19/1000\n",
            "36/36 [==============================] - 1s 17ms/step - loss: 1.7050 - mse: 1.7050 - mae: 1.0256 - val_loss: 1.1842 - val_mse: 1.1842 - val_mae: 0.8771\n",
            "Epoch 20/1000\n",
            "36/36 [==============================] - 0s 11ms/step - loss: 1.4825 - mse: 1.4825 - mae: 0.9611 - val_loss: 1.0123 - val_mse: 1.0123 - val_mae: 0.7929\n",
            "Epoch 21/1000\n",
            "36/36 [==============================] - 0s 7ms/step - loss: 1.5517 - mse: 1.5517 - mae: 0.9838 - val_loss: 1.1773 - val_mse: 1.1773 - val_mae: 0.8959\n",
            "Epoch 22/1000\n",
            "36/36 [==============================] - 0s 8ms/step - loss: 1.4243 - mse: 1.4243 - mae: 0.9303 - val_loss: 0.8041 - val_mse: 0.8041 - val_mae: 0.7113\n",
            "Epoch 23/1000\n",
            "36/36 [==============================] - 0s 7ms/step - loss: 1.4800 - mse: 1.4800 - mae: 0.9485 - val_loss: 1.0031 - val_mse: 1.0031 - val_mae: 0.8213\n",
            "Epoch 24/1000\n",
            "36/36 [==============================] - 0s 9ms/step - loss: 1.3914 - mse: 1.3914 - mae: 0.9201 - val_loss: 0.8527 - val_mse: 0.8527 - val_mae: 0.7433\n",
            "Epoch 25/1000\n",
            "36/36 [==============================] - 0s 8ms/step - loss: 1.3589 - mse: 1.3589 - mae: 0.9144 - val_loss: 0.7759 - val_mse: 0.7759 - val_mae: 0.6983\n",
            "Epoch 26/1000\n",
            "36/36 [==============================] - 0s 7ms/step - loss: 1.2434 - mse: 1.2434 - mae: 0.8820 - val_loss: 0.8288 - val_mse: 0.8288 - val_mae: 0.7215\n",
            "Epoch 27/1000\n",
            "36/36 [==============================] - 0s 9ms/step - loss: 1.1393 - mse: 1.1393 - mae: 0.8395 - val_loss: 0.8012 - val_mse: 0.8012 - val_mae: 0.7106\n",
            "Epoch 28/1000\n",
            "36/36 [==============================] - 0s 7ms/step - loss: 1.1477 - mse: 1.1477 - mae: 0.8332 - val_loss: 0.8694 - val_mse: 0.8694 - val_mae: 0.7566\n",
            "Epoch 29/1000\n",
            "36/36 [==============================] - 1s 16ms/step - loss: 1.1484 - mse: 1.1484 - mae: 0.8291 - val_loss: 0.8152 - val_mse: 0.8152 - val_mae: 0.7306\n",
            "Epoch 30/1000\n",
            "36/36 [==============================] - 0s 8ms/step - loss: 1.0533 - mse: 1.0533 - mae: 0.8178 - val_loss: 0.5712 - val_mse: 0.5712 - val_mae: 0.5917\n",
            "Epoch 31/1000\n",
            "36/36 [==============================] - 0s 10ms/step - loss: 1.0398 - mse: 1.0398 - mae: 0.8007 - val_loss: 0.7178 - val_mse: 0.7178 - val_mae: 0.6803\n",
            "Epoch 32/1000\n",
            "36/36 [==============================] - 0s 12ms/step - loss: 0.9778 - mse: 0.9778 - mae: 0.7771 - val_loss: 0.7202 - val_mse: 0.7202 - val_mae: 0.6823\n",
            "Epoch 33/1000\n",
            "36/36 [==============================] - 0s 9ms/step - loss: 0.9950 - mse: 0.9950 - mae: 0.7823 - val_loss: 0.7537 - val_mse: 0.7537 - val_mae: 0.7038\n",
            "Epoch 34/1000\n",
            "36/36 [==============================] - 1s 14ms/step - loss: 0.9729 - mse: 0.9729 - mae: 0.7654 - val_loss: 0.6493 - val_mse: 0.6493 - val_mae: 0.6454\n",
            "Epoch 35/1000\n",
            "36/36 [==============================] - 0s 10ms/step - loss: 0.9750 - mse: 0.9750 - mae: 0.7661 - val_loss: 0.5152 - val_mse: 0.5152 - val_mae: 0.5768\n",
            "Epoch 36/1000\n",
            "36/36 [==============================] - 0s 10ms/step - loss: 0.8776 - mse: 0.8776 - mae: 0.7276 - val_loss: 0.5534 - val_mse: 0.5534 - val_mae: 0.5934\n",
            "Epoch 37/1000\n",
            "36/36 [==============================] - 0s 12ms/step - loss: 0.9231 - mse: 0.9231 - mae: 0.7425 - val_loss: 0.4771 - val_mse: 0.4771 - val_mae: 0.5585\n",
            "Epoch 38/1000\n",
            "36/36 [==============================] - 1s 18ms/step - loss: 0.7868 - mse: 0.7868 - mae: 0.6901 - val_loss: 0.4940 - val_mse: 0.4940 - val_mae: 0.5707\n",
            "Epoch 39/1000\n",
            "36/36 [==============================] - 1s 16ms/step - loss: 0.8077 - mse: 0.8077 - mae: 0.6992 - val_loss: 0.6903 - val_mse: 0.6903 - val_mae: 0.6722\n",
            "Epoch 40/1000\n",
            "36/36 [==============================] - 0s 9ms/step - loss: 0.8074 - mse: 0.8074 - mae: 0.6985 - val_loss: 0.4084 - val_mse: 0.4084 - val_mae: 0.5169\n",
            "Epoch 41/1000\n",
            "36/36 [==============================] - 0s 10ms/step - loss: 0.7971 - mse: 0.7971 - mae: 0.6935 - val_loss: 0.4715 - val_mse: 0.4715 - val_mae: 0.5480\n",
            "Epoch 42/1000\n",
            "36/36 [==============================] - 0s 10ms/step - loss: 0.7229 - mse: 0.7229 - mae: 0.6570 - val_loss: 0.4062 - val_mse: 0.4062 - val_mae: 0.5152\n",
            "Epoch 43/1000\n",
            "36/36 [==============================] - 1s 34ms/step - loss: 0.7325 - mse: 0.7325 - mae: 0.6584 - val_loss: 0.5080 - val_mse: 0.5080 - val_mae: 0.5764\n",
            "Epoch 44/1000\n",
            "36/36 [==============================] - 1s 15ms/step - loss: 0.6937 - mse: 0.6937 - mae: 0.6477 - val_loss: 0.6069 - val_mse: 0.6069 - val_mae: 0.6261\n",
            "Epoch 45/1000\n",
            "36/36 [==============================] - 0s 8ms/step - loss: 0.6564 - mse: 0.6564 - mae: 0.6356 - val_loss: 0.5226 - val_mse: 0.5226 - val_mae: 0.5744\n",
            "Epoch 46/1000\n",
            "36/36 [==============================] - 0s 8ms/step - loss: 0.6792 - mse: 0.6792 - mae: 0.6342 - val_loss: 0.4762 - val_mse: 0.4762 - val_mae: 0.5641\n",
            "Epoch 47/1000\n",
            "36/36 [==============================] - 0s 7ms/step - loss: 0.6663 - mse: 0.6663 - mae: 0.6378 - val_loss: 0.4835 - val_mse: 0.4835 - val_mae: 0.5567\n",
            "Epoch 48/1000\n",
            "36/36 [==============================] - 0s 7ms/step - loss: 0.6379 - mse: 0.6379 - mae: 0.6241 - val_loss: 0.4550 - val_mse: 0.4550 - val_mae: 0.5516\n",
            "Epoch 49/1000\n",
            "36/36 [==============================] - 0s 8ms/step - loss: 0.6391 - mse: 0.6391 - mae: 0.6243 - val_loss: 0.4384 - val_mse: 0.4384 - val_mae: 0.5304\n",
            "Epoch 50/1000\n"
          ]
        },
        {
          "name": "stdout",
          "output_type": "stream",
          "text": [
            "36/36 [==============================] - 0s 8ms/step - loss: 0.6174 - mse: 0.6174 - mae: 0.6180 - val_loss: 0.3857 - val_mse: 0.3857 - val_mae: 0.5006\n",
            "Epoch 51/1000\n",
            "36/36 [==============================] - 0s 7ms/step - loss: 0.6135 - mse: 0.6135 - mae: 0.6115 - val_loss: 0.4934 - val_mse: 0.4934 - val_mae: 0.5547\n",
            "Epoch 52/1000\n",
            "36/36 [==============================] - 0s 8ms/step - loss: 0.5969 - mse: 0.5969 - mae: 0.6013 - val_loss: 0.4718 - val_mse: 0.4718 - val_mae: 0.5584\n",
            "Epoch 53/1000\n",
            "36/36 [==============================] - 0s 7ms/step - loss: 0.5817 - mse: 0.5817 - mae: 0.6023 - val_loss: 0.3349 - val_mse: 0.3349 - val_mae: 0.4746\n",
            "Epoch 54/1000\n",
            "36/36 [==============================] - 0s 14ms/step - loss: 0.5840 - mse: 0.5840 - mae: 0.5867 - val_loss: 0.4163 - val_mse: 0.4163 - val_mae: 0.5120\n",
            "Epoch 55/1000\n",
            "36/36 [==============================] - 1s 20ms/step - loss: 0.5718 - mse: 0.5718 - mae: 0.5962 - val_loss: 0.3667 - val_mse: 0.3667 - val_mae: 0.4886\n",
            "Epoch 56/1000\n",
            "36/36 [==============================] - 1s 14ms/step - loss: 0.5184 - mse: 0.5184 - mae: 0.5638 - val_loss: 0.4415 - val_mse: 0.4415 - val_mae: 0.5316\n",
            "Epoch 57/1000\n",
            "36/36 [==============================] - 1s 14ms/step - loss: 0.5481 - mse: 0.5481 - mae: 0.5775 - val_loss: 0.3415 - val_mse: 0.3415 - val_mae: 0.4722\n",
            "Epoch 58/1000\n",
            "36/36 [==============================] - 0s 9ms/step - loss: 0.5267 - mse: 0.5267 - mae: 0.5625 - val_loss: 0.5019 - val_mse: 0.5019 - val_mae: 0.5617\n",
            "Epoch 59/1000\n",
            "36/36 [==============================] - 0s 10ms/step - loss: 0.5098 - mse: 0.5098 - mae: 0.5550 - val_loss: 0.3338 - val_mse: 0.3338 - val_mae: 0.4663\n",
            "Epoch 60/1000\n",
            "36/36 [==============================] - 1s 15ms/step - loss: 0.5353 - mse: 0.5353 - mae: 0.5711 - val_loss: 0.3247 - val_mse: 0.3247 - val_mae: 0.4637\n",
            "Epoch 61/1000\n",
            "36/36 [==============================] - 0s 9ms/step - loss: 0.5125 - mse: 0.5125 - mae: 0.5552 - val_loss: 0.3313 - val_mse: 0.3313 - val_mae: 0.4640\n",
            "Epoch 62/1000\n",
            "36/36 [==============================] - 0s 9ms/step - loss: 0.5212 - mse: 0.5212 - mae: 0.5630 - val_loss: 0.5539 - val_mse: 0.5539 - val_mae: 0.5821\n",
            "Epoch 63/1000\n",
            "36/36 [==============================] - 0s 9ms/step - loss: 0.4960 - mse: 0.4960 - mae: 0.5427 - val_loss: 0.3763 - val_mse: 0.3763 - val_mae: 0.4883\n",
            "Epoch 64/1000\n",
            "36/36 [==============================] - 0s 9ms/step - loss: 0.5030 - mse: 0.5030 - mae: 0.5474 - val_loss: 0.3320 - val_mse: 0.3320 - val_mae: 0.4642\n",
            "Epoch 65/1000\n",
            "36/36 [==============================] - 0s 9ms/step - loss: 0.4899 - mse: 0.4899 - mae: 0.5410 - val_loss: 0.3556 - val_mse: 0.3556 - val_mae: 0.4841\n",
            "Epoch 66/1000\n",
            "36/36 [==============================] - 0s 9ms/step - loss: 0.5060 - mse: 0.5060 - mae: 0.5549 - val_loss: 0.4178 - val_mse: 0.4178 - val_mae: 0.5186\n",
            "Epoch 67/1000\n",
            "36/36 [==============================] - 0s 11ms/step - loss: 0.4598 - mse: 0.4598 - mae: 0.5289 - val_loss: 0.3904 - val_mse: 0.3904 - val_mae: 0.5031\n",
            "Epoch 68/1000\n",
            "36/36 [==============================] - 0s 12ms/step - loss: 0.4803 - mse: 0.4803 - mae: 0.5436 - val_loss: 0.3935 - val_mse: 0.3935 - val_mae: 0.5054\n",
            "Epoch 69/1000\n",
            "36/36 [==============================] - 0s 9ms/step - loss: 0.4776 - mse: 0.4776 - mae: 0.5401 - val_loss: 0.3449 - val_mse: 0.3449 - val_mae: 0.4717\n",
            "Epoch 70/1000\n",
            "36/36 [==============================] - 0s 9ms/step - loss: 0.4860 - mse: 0.4860 - mae: 0.5409 - val_loss: 0.3483 - val_mse: 0.3483 - val_mae: 0.4718\n",
            "Epoch 71/1000\n",
            "36/36 [==============================] - 1s 22ms/step - loss: 0.4783 - mse: 0.4783 - mae: 0.5340 - val_loss: 0.4199 - val_mse: 0.4199 - val_mae: 0.5063\n",
            "Epoch 72/1000\n",
            "36/36 [==============================] - 0s 10ms/step - loss: 0.4647 - mse: 0.4647 - mae: 0.5288 - val_loss: 0.3229 - val_mse: 0.3229 - val_mae: 0.4595\n",
            "Epoch 73/1000\n",
            "36/36 [==============================] - 0s 8ms/step - loss: 0.4502 - mse: 0.4502 - mae: 0.5293 - val_loss: 0.5201 - val_mse: 0.5201 - val_mae: 0.5636\n",
            "Epoch 74/1000\n",
            "36/36 [==============================] - 0s 10ms/step - loss: 0.4619 - mse: 0.4619 - mae: 0.5208 - val_loss: 0.3835 - val_mse: 0.3835 - val_mae: 0.4917\n",
            "Epoch 75/1000\n",
            "36/36 [==============================] - 0s 6ms/step - loss: 0.4736 - mse: 0.4736 - mae: 0.5393 - val_loss: 0.3753 - val_mse: 0.3753 - val_mae: 0.4865\n",
            "Epoch 76/1000\n",
            "36/36 [==============================] - 0s 6ms/step - loss: 0.4585 - mse: 0.4585 - mae: 0.5245 - val_loss: 0.4084 - val_mse: 0.4084 - val_mae: 0.5068\n",
            "Epoch 77/1000\n",
            "36/36 [==============================] - 0s 5ms/step - loss: 0.4642 - mse: 0.4642 - mae: 0.5300 - val_loss: 0.3100 - val_mse: 0.3100 - val_mae: 0.4492\n",
            "Epoch 78/1000\n",
            "36/36 [==============================] - 0s 10ms/step - loss: 0.4714 - mse: 0.4714 - mae: 0.5380 - val_loss: 0.3970 - val_mse: 0.3970 - val_mae: 0.4966\n",
            "Epoch 79/1000\n",
            "36/36 [==============================] - 0s 9ms/step - loss: 0.4611 - mse: 0.4611 - mae: 0.5265 - val_loss: 0.3104 - val_mse: 0.3104 - val_mae: 0.4487\n",
            "Epoch 80/1000\n",
            "36/36 [==============================] - 0s 8ms/step - loss: 0.4412 - mse: 0.4412 - mae: 0.5201 - val_loss: 0.4081 - val_mse: 0.4081 - val_mae: 0.5033\n",
            "Epoch 81/1000\n",
            "36/36 [==============================] - 0s 8ms/step - loss: 0.4409 - mse: 0.4409 - mae: 0.5143 - val_loss: 0.3341 - val_mse: 0.3341 - val_mae: 0.4694\n",
            "Epoch 82/1000\n",
            "36/36 [==============================] - 0s 11ms/step - loss: 0.4473 - mse: 0.4473 - mae: 0.5163 - val_loss: 0.3517 - val_mse: 0.3517 - val_mae: 0.4762\n",
            "Epoch 83/1000\n",
            "36/36 [==============================] - 0s 8ms/step - loss: 0.4470 - mse: 0.4470 - mae: 0.5231 - val_loss: 0.3857 - val_mse: 0.3857 - val_mae: 0.4925\n",
            "Epoch 84/1000\n",
            "36/36 [==============================] - 0s 10ms/step - loss: 0.4403 - mse: 0.4403 - mae: 0.5115 - val_loss: 0.3486 - val_mse: 0.3486 - val_mae: 0.4734\n",
            "Epoch 85/1000\n",
            "36/36 [==============================] - 0s 12ms/step - loss: 0.4449 - mse: 0.4449 - mae: 0.5233 - val_loss: 0.4045 - val_mse: 0.4045 - val_mae: 0.5097\n",
            "Epoch 86/1000\n",
            "36/36 [==============================] - 0s 8ms/step - loss: 0.4366 - mse: 0.4366 - mae: 0.5070 - val_loss: 0.3426 - val_mse: 0.3426 - val_mae: 0.4735\n",
            "Epoch 87/1000\n",
            "36/36 [==============================] - 0s 8ms/step - loss: 0.4197 - mse: 0.4197 - mae: 0.5066 - val_loss: 0.3224 - val_mse: 0.3224 - val_mae: 0.4573\n",
            "Epoch 88/1000\n",
            "36/36 [==============================] - 0s 8ms/step - loss: 0.4264 - mse: 0.4264 - mae: 0.5125 - val_loss: 0.3426 - val_mse: 0.3426 - val_mae: 0.4714\n",
            "Epoch 89/1000\n",
            "36/36 [==============================] - 0s 11ms/step - loss: 0.4319 - mse: 0.4319 - mae: 0.5146 - val_loss: 0.3025 - val_mse: 0.3025 - val_mae: 0.4461\n",
            "Epoch 90/1000\n",
            "36/36 [==============================] - 0s 8ms/step - loss: 0.4198 - mse: 0.4198 - mae: 0.5036 - val_loss: 0.3050 - val_mse: 0.3050 - val_mae: 0.4462\n",
            "Epoch 91/1000\n",
            "36/36 [==============================] - 0s 8ms/step - loss: 0.4391 - mse: 0.4391 - mae: 0.5196 - val_loss: 0.3707 - val_mse: 0.3707 - val_mae: 0.4914\n",
            "Epoch 92/1000\n",
            "36/36 [==============================] - 0s 8ms/step - loss: 0.3997 - mse: 0.3997 - mae: 0.4907 - val_loss: 0.3966 - val_mse: 0.3966 - val_mae: 0.5103\n",
            "Epoch 93/1000\n",
            "36/36 [==============================] - 0s 8ms/step - loss: 0.3987 - mse: 0.3987 - mae: 0.4930 - val_loss: 0.3363 - val_mse: 0.3363 - val_mae: 0.4696\n",
            "Epoch 94/1000\n",
            "36/36 [==============================] - 0s 8ms/step - loss: 0.4018 - mse: 0.4018 - mae: 0.4937 - val_loss: 0.3052 - val_mse: 0.3052 - val_mae: 0.4459\n",
            "Epoch 95/1000\n",
            "36/36 [==============================] - 0s 8ms/step - loss: 0.4279 - mse: 0.4279 - mae: 0.5097 - val_loss: 0.4197 - val_mse: 0.4197 - val_mae: 0.5098\n",
            "Epoch 96/1000\n",
            "36/36 [==============================] - 0s 9ms/step - loss: 0.3966 - mse: 0.3966 - mae: 0.4933 - val_loss: 0.3447 - val_mse: 0.3447 - val_mae: 0.4811\n",
            "Epoch 97/1000\n",
            "36/36 [==============================] - 0s 9ms/step - loss: 0.4227 - mse: 0.4227 - mae: 0.5017 - val_loss: 0.3701 - val_mse: 0.3701 - val_mae: 0.4891\n",
            "Epoch 98/1000\n",
            "36/36 [==============================] - 0s 8ms/step - loss: 0.4039 - mse: 0.4039 - mae: 0.4925 - val_loss: 0.3279 - val_mse: 0.3279 - val_mae: 0.4623\n",
            "Epoch 99/1000\n",
            "36/36 [==============================] - 0s 10ms/step - loss: 0.4215 - mse: 0.4215 - mae: 0.5065 - val_loss: 0.4305 - val_mse: 0.4305 - val_mae: 0.5260\n"
          ]
        },
        {
          "name": "stdout",
          "output_type": "stream",
          "text": [
            "Epoch 100/1000\n",
            "36/36 [==============================] - 0s 8ms/step - loss: 0.4106 - mse: 0.4106 - mae: 0.4995 - val_loss: 0.3323 - val_mse: 0.3323 - val_mae: 0.4647\n",
            "Epoch 101/1000\n",
            "36/36 [==============================] - 0s 6ms/step - loss: 0.4219 - mse: 0.4219 - mae: 0.5079 - val_loss: 0.3499 - val_mse: 0.3499 - val_mae: 0.4856\n",
            "Epoch 102/1000\n",
            "36/36 [==============================] - 0s 6ms/step - loss: 0.3963 - mse: 0.3963 - mae: 0.4852 - val_loss: 0.3265 - val_mse: 0.3265 - val_mae: 0.4550\n",
            "Epoch 103/1000\n",
            "36/36 [==============================] - 0s 5ms/step - loss: 0.4277 - mse: 0.4277 - mae: 0.5045 - val_loss: 0.2869 - val_mse: 0.2869 - val_mae: 0.4249\n",
            "Epoch 104/1000\n",
            "36/36 [==============================] - 0s 6ms/step - loss: 0.4293 - mse: 0.4293 - mae: 0.5068 - val_loss: 0.3603 - val_mse: 0.3603 - val_mae: 0.4914\n",
            "Epoch 105/1000\n",
            "36/36 [==============================] - 0s 11ms/step - loss: 0.4242 - mse: 0.4242 - mae: 0.5128 - val_loss: 0.3319 - val_mse: 0.3319 - val_mae: 0.4633\n",
            "Epoch 106/1000\n",
            "36/36 [==============================] - 0s 14ms/step - loss: 0.4038 - mse: 0.4038 - mae: 0.4916 - val_loss: 0.3543 - val_mse: 0.3543 - val_mae: 0.4787\n",
            "Epoch 107/1000\n",
            "36/36 [==============================] - 0s 13ms/step - loss: 0.4103 - mse: 0.4103 - mae: 0.4908 - val_loss: 0.3542 - val_mse: 0.3542 - val_mae: 0.4717\n",
            "Epoch 108/1000\n",
            "36/36 [==============================] - 0s 8ms/step - loss: 0.3793 - mse: 0.3793 - mae: 0.4831 - val_loss: 0.3233 - val_mse: 0.3233 - val_mae: 0.4537\n",
            "Epoch 109/1000\n",
            "36/36 [==============================] - 0s 8ms/step - loss: 0.3884 - mse: 0.3884 - mae: 0.4881 - val_loss: 0.4092 - val_mse: 0.4092 - val_mae: 0.5039\n",
            "Epoch 110/1000\n",
            "36/36 [==============================] - 0s 10ms/step - loss: 0.4068 - mse: 0.4068 - mae: 0.4933 - val_loss: 0.3579 - val_mse: 0.3579 - val_mae: 0.4769\n",
            "Epoch 111/1000\n",
            "36/36 [==============================] - 0s 13ms/step - loss: 0.3874 - mse: 0.3874 - mae: 0.4858 - val_loss: 0.3187 - val_mse: 0.3187 - val_mae: 0.4625\n",
            "Epoch 112/1000\n",
            "36/36 [==============================] - 0s 10ms/step - loss: 0.3998 - mse: 0.3998 - mae: 0.4911 - val_loss: 0.3473 - val_mse: 0.3473 - val_mae: 0.4696\n",
            "Epoch 113/1000\n",
            "36/36 [==============================] - 0s 7ms/step - loss: 0.3929 - mse: 0.3929 - mae: 0.4901 - val_loss: 0.2989 - val_mse: 0.2989 - val_mae: 0.4489\n",
            "Epoch 114/1000\n",
            "36/36 [==============================] - 0s 5ms/step - loss: 0.3941 - mse: 0.3941 - mae: 0.4949 - val_loss: 0.3210 - val_mse: 0.3210 - val_mae: 0.4658\n",
            "Epoch 115/1000\n",
            "36/36 [==============================] - 0s 6ms/step - loss: 0.4159 - mse: 0.4159 - mae: 0.4990 - val_loss: 0.3503 - val_mse: 0.3503 - val_mae: 0.4833\n",
            "Epoch 116/1000\n",
            "36/36 [==============================] - 0s 8ms/step - loss: 0.4047 - mse: 0.4047 - mae: 0.4886 - val_loss: 0.3268 - val_mse: 0.3268 - val_mae: 0.4613\n",
            "Epoch 117/1000\n",
            "36/36 [==============================] - 0s 9ms/step - loss: 0.3986 - mse: 0.3986 - mae: 0.4914 - val_loss: 0.3379 - val_mse: 0.3379 - val_mae: 0.4647\n",
            "Epoch 118/1000\n",
            "36/36 [==============================] - 0s 11ms/step - loss: 0.4017 - mse: 0.4017 - mae: 0.4943 - val_loss: 0.3502 - val_mse: 0.3502 - val_mae: 0.4748\n",
            "Epoch 119/1000\n",
            "36/36 [==============================] - 0s 10ms/step - loss: 0.4022 - mse: 0.4022 - mae: 0.4951 - val_loss: 0.3144 - val_mse: 0.3144 - val_mae: 0.4611\n",
            "Epoch 120/1000\n",
            "36/36 [==============================] - 0s 7ms/step - loss: 0.3864 - mse: 0.3864 - mae: 0.4857 - val_loss: 0.3536 - val_mse: 0.3536 - val_mae: 0.4745\n",
            "Epoch 121/1000\n",
            "36/36 [==============================] - 0s 8ms/step - loss: 0.3938 - mse: 0.3938 - mae: 0.4853 - val_loss: 0.3508 - val_mse: 0.3508 - val_mae: 0.4731\n",
            "Epoch 122/1000\n",
            "36/36 [==============================] - 0s 8ms/step - loss: 0.4108 - mse: 0.4108 - mae: 0.4924 - val_loss: 0.3828 - val_mse: 0.3828 - val_mae: 0.4931\n",
            "Epoch 123/1000\n",
            "36/36 [==============================] - 0s 6ms/step - loss: 0.3731 - mse: 0.3731 - mae: 0.4806 - val_loss: 0.3087 - val_mse: 0.3087 - val_mae: 0.4447\n",
            "Epoch 124/1000\n",
            "36/36 [==============================] - 0s 7ms/step - loss: 0.3902 - mse: 0.3902 - mae: 0.4837 - val_loss: 0.3269 - val_mse: 0.3269 - val_mae: 0.4655\n",
            "Epoch 125/1000\n",
            "36/36 [==============================] - 0s 7ms/step - loss: 0.4050 - mse: 0.4050 - mae: 0.4912 - val_loss: 0.3557 - val_mse: 0.3557 - val_mae: 0.4780\n",
            "Epoch 126/1000\n",
            "36/36 [==============================] - 0s 9ms/step - loss: 0.3876 - mse: 0.3876 - mae: 0.4816 - val_loss: 0.3481 - val_mse: 0.3481 - val_mae: 0.4774\n",
            "Epoch 127/1000\n",
            "36/36 [==============================] - 0s 6ms/step - loss: 0.3920 - mse: 0.3920 - mae: 0.4840 - val_loss: 0.3243 - val_mse: 0.3243 - val_mae: 0.4682\n",
            "Epoch 128/1000\n",
            "36/36 [==============================] - 0s 6ms/step - loss: 0.3794 - mse: 0.3794 - mae: 0.4769 - val_loss: 0.3496 - val_mse: 0.3496 - val_mae: 0.4707\n",
            "Epoch 129/1000\n",
            "36/36 [==============================] - 0s 5ms/step - loss: 0.3844 - mse: 0.3844 - mae: 0.4792 - val_loss: 0.3641 - val_mse: 0.3641 - val_mae: 0.4846\n",
            "Epoch 130/1000\n",
            "36/36 [==============================] - 0s 5ms/step - loss: 0.3841 - mse: 0.3841 - mae: 0.4864 - val_loss: 0.3462 - val_mse: 0.3462 - val_mae: 0.4707\n",
            "Epoch 131/1000\n",
            "36/36 [==============================] - 0s 5ms/step - loss: 0.3658 - mse: 0.3658 - mae: 0.4726 - val_loss: 0.3489 - val_mse: 0.3489 - val_mae: 0.4752\n",
            "Epoch 132/1000\n",
            "36/36 [==============================] - 0s 8ms/step - loss: 0.4000 - mse: 0.4000 - mae: 0.4961 - val_loss: 0.3326 - val_mse: 0.3326 - val_mae: 0.4649\n",
            "Epoch 133/1000\n",
            "36/36 [==============================] - 0s 12ms/step - loss: 0.3911 - mse: 0.3911 - mae: 0.4862 - val_loss: 0.3028 - val_mse: 0.3028 - val_mae: 0.4483\n",
            "Epoch 134/1000\n",
            "36/36 [==============================] - 1s 18ms/step - loss: 0.3784 - mse: 0.3784 - mae: 0.4752 - val_loss: 0.3405 - val_mse: 0.3405 - val_mae: 0.4656\n",
            "Epoch 135/1000\n",
            "36/36 [==============================] - 1s 23ms/step - loss: 0.3612 - mse: 0.3612 - mae: 0.4688 - val_loss: 0.3197 - val_mse: 0.3197 - val_mae: 0.4600\n",
            "Epoch 136/1000\n",
            "36/36 [==============================] - 1s 23ms/step - loss: 0.3776 - mse: 0.3776 - mae: 0.4790 - val_loss: 0.3076 - val_mse: 0.3076 - val_mae: 0.4524\n",
            "Epoch 137/1000\n",
            "36/36 [==============================] - 0s 14ms/step - loss: 0.3803 - mse: 0.3803 - mae: 0.4794 - val_loss: 0.3529 - val_mse: 0.3529 - val_mae: 0.4812\n",
            "Epoch 138/1000\n",
            "36/36 [==============================] - 0s 8ms/step - loss: 0.3743 - mse: 0.3743 - mae: 0.4789 - val_loss: 0.3109 - val_mse: 0.3109 - val_mae: 0.4489\n",
            "Epoch 139/1000\n",
            "36/36 [==============================] - 1s 21ms/step - loss: 0.3623 - mse: 0.3623 - mae: 0.4690 - val_loss: 0.3491 - val_mse: 0.3491 - val_mae: 0.4789\n",
            "Epoch 140/1000\n",
            "36/36 [==============================] - 1s 28ms/step - loss: 0.3947 - mse: 0.3947 - mae: 0.4889 - val_loss: 0.3116 - val_mse: 0.3116 - val_mae: 0.4531\n",
            "Epoch 141/1000\n",
            "36/36 [==============================] - 1s 21ms/step - loss: 0.3783 - mse: 0.3783 - mae: 0.4751 - val_loss: 0.3556 - val_mse: 0.3556 - val_mae: 0.4811\n",
            "Epoch 142/1000\n",
            "36/36 [==============================] - 1s 23ms/step - loss: 0.3634 - mse: 0.3634 - mae: 0.4679 - val_loss: 0.3235 - val_mse: 0.3235 - val_mae: 0.4607\n",
            "Epoch 143/1000\n",
            "36/36 [==============================] - 1s 18ms/step - loss: 0.3997 - mse: 0.3997 - mae: 0.4901 - val_loss: 0.3925 - val_mse: 0.3925 - val_mae: 0.4989\n",
            "Epoch 144/1000\n",
            "36/36 [==============================] - 0s 10ms/step - loss: 0.3745 - mse: 0.3745 - mae: 0.4773 - val_loss: 0.3157 - val_mse: 0.3157 - val_mae: 0.4619\n",
            "Epoch 145/1000\n",
            "36/36 [==============================] - 1s 14ms/step - loss: 0.3696 - mse: 0.3696 - mae: 0.4767 - val_loss: 0.3213 - val_mse: 0.3213 - val_mae: 0.4645\n",
            "Epoch 146/1000\n",
            "36/36 [==============================] - 0s 13ms/step - loss: 0.3485 - mse: 0.3485 - mae: 0.4585 - val_loss: 0.3227 - val_mse: 0.3227 - val_mae: 0.4600\n",
            "Epoch 147/1000\n",
            "36/36 [==============================] - 0s 9ms/step - loss: 0.3666 - mse: 0.3666 - mae: 0.4686 - val_loss: 0.3111 - val_mse: 0.3111 - val_mae: 0.4536\n",
            "Epoch 148/1000\n",
            "36/36 [==============================] - 0s 9ms/step - loss: 0.3762 - mse: 0.3762 - mae: 0.4791 - val_loss: 0.3413 - val_mse: 0.3413 - val_mae: 0.4690\n",
            "Epoch 149/1000\n"
          ]
        },
        {
          "name": "stdout",
          "output_type": "stream",
          "text": [
            "36/36 [==============================] - 0s 7ms/step - loss: 0.3755 - mse: 0.3755 - mae: 0.4751 - val_loss: 0.3394 - val_mse: 0.3394 - val_mae: 0.4708\n",
            "Epoch 150/1000\n",
            "36/36 [==============================] - 0s 8ms/step - loss: 0.3550 - mse: 0.3550 - mae: 0.4586 - val_loss: 0.3909 - val_mse: 0.3909 - val_mae: 0.5037\n",
            "Epoch 151/1000\n",
            "36/36 [==============================] - 0s 8ms/step - loss: 0.3614 - mse: 0.3614 - mae: 0.4722 - val_loss: 0.3301 - val_mse: 0.3301 - val_mae: 0.4635\n",
            "Epoch 152/1000\n",
            "36/36 [==============================] - 0s 8ms/step - loss: 0.3715 - mse: 0.3715 - mae: 0.4736 - val_loss: 0.3067 - val_mse: 0.3067 - val_mae: 0.4498\n",
            "Epoch 153/1000\n",
            "36/36 [==============================] - 0s 10ms/step - loss: 0.3642 - mse: 0.3642 - mae: 0.4705 - val_loss: 0.3068 - val_mse: 0.3068 - val_mae: 0.4491\n",
            "Epoch 154/1000\n",
            "36/36 [==============================] - 0s 8ms/step - loss: 0.3588 - mse: 0.3588 - mae: 0.4640 - val_loss: 0.3382 - val_mse: 0.3382 - val_mae: 0.4695\n",
            "Epoch 155/1000\n",
            "36/36 [==============================] - 0s 9ms/step - loss: 0.3561 - mse: 0.3561 - mae: 0.4616 - val_loss: 0.3163 - val_mse: 0.3163 - val_mae: 0.4575\n",
            "Epoch 156/1000\n",
            "36/36 [==============================] - 0s 9ms/step - loss: 0.3609 - mse: 0.3609 - mae: 0.4631 - val_loss: 0.3262 - val_mse: 0.3262 - val_mae: 0.4679\n",
            "Epoch 157/1000\n",
            "36/36 [==============================] - 1s 14ms/step - loss: 0.3596 - mse: 0.3596 - mae: 0.4615 - val_loss: 0.3796 - val_mse: 0.3796 - val_mae: 0.4974\n",
            "Epoch 158/1000\n",
            "36/36 [==============================] - 0s 10ms/step - loss: 0.3628 - mse: 0.3628 - mae: 0.4692 - val_loss: 0.3450 - val_mse: 0.3450 - val_mae: 0.4832\n",
            "Epoch 159/1000\n",
            "36/36 [==============================] - 1s 15ms/step - loss: 0.3649 - mse: 0.3649 - mae: 0.4694 - val_loss: 0.3753 - val_mse: 0.3753 - val_mae: 0.4916\n",
            "Epoch 160/1000\n",
            "36/36 [==============================] - 0s 12ms/step - loss: 0.3501 - mse: 0.3501 - mae: 0.4564 - val_loss: 0.3250 - val_mse: 0.3250 - val_mae: 0.4570\n",
            "Epoch 161/1000\n",
            "36/36 [==============================] - 0s 11ms/step - loss: 0.3590 - mse: 0.3590 - mae: 0.4646 - val_loss: 0.3581 - val_mse: 0.3581 - val_mae: 0.4851\n",
            "Epoch 162/1000\n",
            "36/36 [==============================] - 0s 13ms/step - loss: 0.3461 - mse: 0.3461 - mae: 0.4607 - val_loss: 0.3803 - val_mse: 0.3803 - val_mae: 0.4934\n",
            "Epoch 163/1000\n",
            "36/36 [==============================] - 1s 14ms/step - loss: 0.3476 - mse: 0.3476 - mae: 0.4576 - val_loss: 0.3340 - val_mse: 0.3340 - val_mae: 0.4659\n",
            "Epoch 164/1000\n",
            "36/36 [==============================] - 0s 11ms/step - loss: 0.3587 - mse: 0.3587 - mae: 0.4611 - val_loss: 0.3182 - val_mse: 0.3182 - val_mae: 0.4573\n",
            "Epoch 165/1000\n",
            "36/36 [==============================] - 1s 14ms/step - loss: 0.3529 - mse: 0.3529 - mae: 0.4593 - val_loss: 0.3389 - val_mse: 0.3389 - val_mae: 0.4686\n",
            "Epoch 166/1000\n",
            "36/36 [==============================] - 1s 24ms/step - loss: 0.3669 - mse: 0.3669 - mae: 0.4686 - val_loss: 0.3742 - val_mse: 0.3742 - val_mae: 0.4886\n",
            "Epoch 167/1000\n",
            "36/36 [==============================] - 0s 11ms/step - loss: 0.3560 - mse: 0.3560 - mae: 0.4632 - val_loss: 0.3245 - val_mse: 0.3245 - val_mae: 0.4576\n",
            "Epoch 168/1000\n",
            "36/36 [==============================] - 0s 10ms/step - loss: 0.3560 - mse: 0.3560 - mae: 0.4646 - val_loss: 0.3374 - val_mse: 0.3374 - val_mae: 0.4731\n",
            "Epoch 169/1000\n",
            "36/36 [==============================] - 0s 10ms/step - loss: 0.3493 - mse: 0.3493 - mae: 0.4626 - val_loss: 0.3478 - val_mse: 0.3478 - val_mae: 0.4808\n",
            "Epoch 170/1000\n",
            "36/36 [==============================] - 0s 8ms/step - loss: 0.3656 - mse: 0.3656 - mae: 0.4698 - val_loss: 0.3447 - val_mse: 0.3447 - val_mae: 0.4816\n",
            "Epoch 171/1000\n",
            "36/36 [==============================] - 0s 10ms/step - loss: 0.3428 - mse: 0.3428 - mae: 0.4580 - val_loss: 0.3256 - val_mse: 0.3256 - val_mae: 0.4678\n",
            "Epoch 172/1000\n",
            "36/36 [==============================] - 0s 8ms/step - loss: 0.3429 - mse: 0.3429 - mae: 0.4513 - val_loss: 0.3092 - val_mse: 0.3092 - val_mae: 0.4525\n",
            "Epoch 173/1000\n",
            "36/36 [==============================] - 0s 6ms/step - loss: 0.3497 - mse: 0.3497 - mae: 0.4569 - val_loss: 0.3031 - val_mse: 0.3031 - val_mae: 0.4509\n",
            "Epoch 174/1000\n",
            "36/36 [==============================] - 0s 6ms/step - loss: 0.3533 - mse: 0.3533 - mae: 0.4627 - val_loss: 0.3247 - val_mse: 0.3247 - val_mae: 0.4666\n",
            "Epoch 175/1000\n",
            "36/36 [==============================] - 0s 6ms/step - loss: 0.3713 - mse: 0.3713 - mae: 0.4698 - val_loss: 0.3089 - val_mse: 0.3089 - val_mae: 0.4559\n",
            "Epoch 176/1000\n",
            "36/36 [==============================] - 0s 6ms/step - loss: 0.3576 - mse: 0.3576 - mae: 0.4664 - val_loss: 0.3337 - val_mse: 0.3337 - val_mae: 0.4681\n",
            "Epoch 177/1000\n",
            "36/36 [==============================] - 0s 6ms/step - loss: 0.3514 - mse: 0.3514 - mae: 0.4612 - val_loss: 0.3408 - val_mse: 0.3408 - val_mae: 0.4753\n",
            "Epoch 178/1000\n",
            "36/36 [==============================] - 0s 6ms/step - loss: 0.3502 - mse: 0.3502 - mae: 0.4588 - val_loss: 0.3403 - val_mse: 0.3403 - val_mae: 0.4658\n",
            "Epoch 179/1000\n",
            "36/36 [==============================] - 0s 6ms/step - loss: 0.3510 - mse: 0.3510 - mae: 0.4566 - val_loss: 0.3356 - val_mse: 0.3356 - val_mae: 0.4668\n",
            "Epoch 180/1000\n",
            "36/36 [==============================] - 0s 6ms/step - loss: 0.3452 - mse: 0.3452 - mae: 0.4545 - val_loss: 0.3800 - val_mse: 0.3800 - val_mae: 0.4933\n",
            "Epoch 181/1000\n",
            "36/36 [==============================] - 0s 6ms/step - loss: 0.3413 - mse: 0.3413 - mae: 0.4570 - val_loss: 0.3175 - val_mse: 0.3175 - val_mae: 0.4622\n",
            "Epoch 182/1000\n",
            "36/36 [==============================] - 0s 6ms/step - loss: 0.3535 - mse: 0.3535 - mae: 0.4644 - val_loss: 0.3300 - val_mse: 0.3300 - val_mae: 0.4688\n",
            "Epoch 183/1000\n",
            "36/36 [==============================] - 0s 9ms/step - loss: 0.3675 - mse: 0.3675 - mae: 0.4673 - val_loss: 0.3364 - val_mse: 0.3364 - val_mae: 0.4703\n",
            "Epoch 184/1000\n",
            "36/36 [==============================] - 0s 7ms/step - loss: 0.3418 - mse: 0.3418 - mae: 0.4551 - val_loss: 0.3014 - val_mse: 0.3014 - val_mae: 0.4377\n",
            "Epoch 185/1000\n",
            "36/36 [==============================] - 0s 7ms/step - loss: 0.3466 - mse: 0.3466 - mae: 0.4546 - val_loss: 0.3356 - val_mse: 0.3356 - val_mae: 0.4807\n",
            "Epoch 186/1000\n",
            "36/36 [==============================] - 0s 6ms/step - loss: 0.3478 - mse: 0.3478 - mae: 0.4586 - val_loss: 0.3119 - val_mse: 0.3119 - val_mae: 0.4574\n",
            "Epoch 187/1000\n",
            "36/36 [==============================] - 0s 6ms/step - loss: 0.3454 - mse: 0.3454 - mae: 0.4573 - val_loss: 0.3375 - val_mse: 0.3375 - val_mae: 0.4735\n",
            "Epoch 188/1000\n",
            "36/36 [==============================] - 0s 7ms/step - loss: 0.3450 - mse: 0.3450 - mae: 0.4566 - val_loss: 0.3244 - val_mse: 0.3244 - val_mae: 0.4627\n",
            "Epoch 189/1000\n",
            "36/36 [==============================] - 0s 7ms/step - loss: 0.3427 - mse: 0.3427 - mae: 0.4587 - val_loss: 0.3044 - val_mse: 0.3044 - val_mae: 0.4505\n",
            "Epoch 190/1000\n",
            "36/36 [==============================] - 0s 6ms/step - loss: 0.3419 - mse: 0.3419 - mae: 0.4517 - val_loss: 0.3264 - val_mse: 0.3264 - val_mae: 0.4646\n",
            "Epoch 191/1000\n",
            "36/36 [==============================] - 0s 7ms/step - loss: 0.3424 - mse: 0.3424 - mae: 0.4532 - val_loss: 0.3090 - val_mse: 0.3090 - val_mae: 0.4438\n",
            "Epoch 192/1000\n",
            "36/36 [==============================] - 0s 7ms/step - loss: 0.3542 - mse: 0.3542 - mae: 0.4631 - val_loss: 0.3106 - val_mse: 0.3106 - val_mae: 0.4538\n",
            "Epoch 193/1000\n",
            "36/36 [==============================] - 0s 6ms/step - loss: 0.3547 - mse: 0.3547 - mae: 0.4634 - val_loss: 0.3371 - val_mse: 0.3371 - val_mae: 0.4698\n",
            "Epoch 194/1000\n",
            "36/36 [==============================] - 0s 7ms/step - loss: 0.3425 - mse: 0.3425 - mae: 0.4580 - val_loss: 0.3022 - val_mse: 0.3022 - val_mae: 0.4474\n",
            "Epoch 195/1000\n",
            "36/36 [==============================] - 0s 6ms/step - loss: 0.3544 - mse: 0.3544 - mae: 0.4636 - val_loss: 0.3038 - val_mse: 0.3038 - val_mae: 0.4552\n",
            "Epoch 196/1000\n",
            "36/36 [==============================] - 0s 7ms/step - loss: 0.3467 - mse: 0.3467 - mae: 0.4597 - val_loss: 0.3737 - val_mse: 0.3737 - val_mae: 0.4964\n",
            "Epoch 197/1000\n",
            "36/36 [==============================] - 0s 6ms/step - loss: 0.3370 - mse: 0.3370 - mae: 0.4502 - val_loss: 0.2925 - val_mse: 0.2925 - val_mae: 0.4457\n",
            "Epoch 198/1000\n"
          ]
        },
        {
          "name": "stdout",
          "output_type": "stream",
          "text": [
            "36/36 [==============================] - 0s 6ms/step - loss: 0.3358 - mse: 0.3358 - mae: 0.4484 - val_loss: 0.3176 - val_mse: 0.3176 - val_mae: 0.4563\n",
            "Epoch 199/1000\n",
            "36/36 [==============================] - 0s 6ms/step - loss: 0.3539 - mse: 0.3539 - mae: 0.4650 - val_loss: 0.3197 - val_mse: 0.3197 - val_mae: 0.4565\n",
            "Epoch 200/1000\n",
            "36/36 [==============================] - 0s 6ms/step - loss: 0.3403 - mse: 0.3403 - mae: 0.4498 - val_loss: 0.3024 - val_mse: 0.3024 - val_mae: 0.4512\n",
            "Epoch 201/1000\n",
            "36/36 [==============================] - 0s 7ms/step - loss: 0.3405 - mse: 0.3405 - mae: 0.4541 - val_loss: 0.3053 - val_mse: 0.3053 - val_mae: 0.4492\n",
            "Epoch 202/1000\n",
            "36/36 [==============================] - 0s 8ms/step - loss: 0.3297 - mse: 0.3297 - mae: 0.4451 - val_loss: 0.3955 - val_mse: 0.3955 - val_mae: 0.4955\n",
            "Epoch 203/1000\n",
            "36/36 [==============================] - 0s 11ms/step - loss: 0.3394 - mse: 0.3394 - mae: 0.4521 - val_loss: 0.3381 - val_mse: 0.3381 - val_mae: 0.4723\n"
          ]
        }
      ],
      "source": [
        "def training(X_train, y_train, hidden_units = 30, epochs = 1000, opt = tf.keras.optimizers.Adam(learning_rate=0.001, beta_1=0.9, beta_2=0.999), verbose = 1, args = {}):\n",
        "    model = wines_classifier_model(hidden_units, args) # mean_squared_error\n",
        "    model.compile(optimizer=opt, loss='mean_squared_error', metrics=['mse', 'mae']) # categorical_accuracy\n",
        "    history = model.fit(X_train, y_train, validation_split=0.1, epochs=epochs, batch_size=32, verbose=verbose, callbacks=[tb_call_back, early_stopping])\n",
        "    return model, history\n",
        "model, history = training(X_train, y_train)"
      ]
    },
    {
      "cell_type": "code",
      "execution_count": null,
      "id": "8785144c",
      "metadata": {
        "id": "8785144c"
      },
      "outputs": [],
      "source": [
        "def accuracy(y, y_preds): # acc = Tp / Total\n",
        "    true_counter = 0\n",
        "    for i in range(len(y)):\n",
        "        if y[i] == np.round(y_preds[i]) or abs(y[i] - np.round(y_preds[i]) == 1): # margin 1 is accepted\n",
        "            true_counter += 1\n",
        "    return (true_counter / len(y)) * 100"
      ]
    },
    {
      "cell_type": "code",
      "execution_count": null,
      "id": "7f803d93",
      "metadata": {
        "scrolled": true,
        "id": "7f803d93",
        "outputId": "8f6b8e8f-72b5-41d7-c7ae-f5eb2c2f7b87"
      },
      "outputs": [
        {
          "name": "stdout",
          "output_type": "stream",
          "text": [
            "40/40 [==============================] - 0s 6ms/step\n"
          ]
        },
        {
          "data": {
            "text/plain": [
              "0       5\n",
              "1       6\n",
              "2       6\n",
              "3       6\n",
              "4       6\n",
              "       ..\n",
              "1274    7\n",
              "1275    7\n",
              "1276    6\n",
              "1277    5\n",
              "1278    5\n",
              "Name: quality, Length: 1279, dtype: int64"
            ]
          },
          "execution_count": 18,
          "metadata": {},
          "output_type": "execute_result"
        }
      ],
      "source": [
        "ypreds = model.predict(X_train)\n",
        "y_train = y_train.reset_index(drop = True) # to drop index column\n",
        "y_train"
      ]
    },
    {
      "cell_type": "code",
      "execution_count": null,
      "id": "addb2673",
      "metadata": {
        "id": "addb2673",
        "outputId": "17ac475d-0b5b-4fab-f734-f24e90068fa7"
      },
      "outputs": [
        {
          "data": {
            "text/plain": [
              "87.88115715402658"
            ]
          },
          "execution_count": 19,
          "metadata": {},
          "output_type": "execute_result"
        }
      ],
      "source": [
        "accuracy(y_train, ypreds)"
      ]
    },
    {
      "cell_type": "code",
      "execution_count": null,
      "id": "bf16a733",
      "metadata": {
        "scrolled": true,
        "id": "bf16a733",
        "outputId": "c4df6bd0-2163-4ea3-fc8a-18b944f860d4"
      },
      "outputs": [
        {
          "name": "stdout",
          "output_type": "stream",
          "text": [
            "40/40 [==============================] - 0s 4ms/step - loss: 0.2873 - mse: 0.2873 - mae: 0.4123\n"
          ]
        },
        {
          "data": {
            "text/plain": [
              "[0.2873339056968689, 0.2873339056968689, 0.4123073220252991]"
            ]
          },
          "execution_count": 20,
          "metadata": {},
          "output_type": "execute_result"
        }
      ],
      "source": [
        "model.evaluate(X_train, y_train) #mean_squared_error"
      ]
    },
    {
      "cell_type": "code",
      "execution_count": null,
      "id": "6d54bb40",
      "metadata": {
        "id": "6d54bb40",
        "outputId": "e485c8a3-f9c7-4fa6-ea8d-679e098aaf6e"
      },
      "outputs": [
        {
          "name": "stdout",
          "output_type": "stream",
          "text": [
            "10/10 [==============================] - 0s 6ms/step\n"
          ]
        },
        {
          "data": {
            "text/plain": [
              "82.8125"
            ]
          },
          "execution_count": 21,
          "metadata": {},
          "output_type": "execute_result"
        }
      ],
      "source": [
        "ypreds = model.predict(X_test)\n",
        "y_test = y_test.reset_index(drop = True) # to drop index column\n",
        "accuracy(y_test, ypreds)"
      ]
    },
    {
      "cell_type": "code",
      "execution_count": null,
      "id": "37205531",
      "metadata": {
        "scrolled": true,
        "id": "37205531",
        "outputId": "83d2ed8a-066d-4b4f-e0f0-c8a9cb1761c0"
      },
      "outputs": [
        {
          "name": "stdout",
          "output_type": "stream",
          "text": [
            "10/10 [==============================] - 0s 3ms/step - loss: 0.4579 - mse: 0.4579 - mae: 0.5212\n"
          ]
        },
        {
          "data": {
            "text/plain": [
              "[0.4578650891780853, 0.4578650891780853, 0.5212463736534119]"
            ]
          },
          "execution_count": 22,
          "metadata": {},
          "output_type": "execute_result"
        }
      ],
      "source": [
        "model.evaluate(X_test, y_test)"
      ]
    },
    {
      "cell_type": "code",
      "execution_count": null,
      "id": "2858a9fb",
      "metadata": {
        "id": "2858a9fb"
      },
      "outputs": [],
      "source": [
        "# 2 more diff learning rates [0.03, 0.003, 0.0001]\n",
        "opt_1 = tf.keras.optimizers.Adam(learning_rate=0.03, beta_1=0.9, beta_2=0.999)\n",
        "opt_2 = tf.keras.optimizers.Adam(learning_rate=0.003, beta_1=0.9, beta_2=0.999)\n",
        "opt_3 = tf.keras.optimizers.Adam(learning_rate=0.0001, beta_1=0.9, beta_2=0.999)\n",
        "optimizers = [opt_1, opt_2, opt_3]\n",
        "historys = {}\n",
        "for i in range(len(optimizers)):\n",
        "    model, history = training(X_train, y_train, verbose=0)\n",
        "    historys['history_'+ str(i)] = history"
      ]
    },
    {
      "cell_type": "code",
      "execution_count": null,
      "id": "c31504c9",
      "metadata": {
        "id": "c31504c9",
        "outputId": "2f15a337-a2fb-4ad9-fb23-c13b6becc0c4"
      },
      "outputs": [
        {
          "data": {
            "image/png": "[encoded data removed]",
            "text/plain": [
              "<Figure size 432x288 with 1 Axes>"
            ]
          },
          "metadata": {
            "needs_background": "light"
          },
          "output_type": "display_data"
        }
      ],
      "source": [
        "LR = [0.03, 0.003, 0.0001]\n",
        "for i in range(len(optimizers)):\n",
        "    plt.plot(historys['history_'+str(i)].history['loss'], label=str(LR[i]))\n",
        "    plt.xlabel('epochs')\n",
        "    plt.ylabel('loss')\n",
        "    plt.ylim([0, 1]) # this is bcz loss at training 0.22 -> 0.24 -> 0.23 -> 0.22\n",
        "    plt.legend()"
      ]
    },
    {
      "cell_type": "markdown",
      "id": "e48befe8",
      "metadata": {
        "id": "e48befe8"
      },
      "source": []
    }
  ],
  "metadata": {
    "kernelspec": {
      "display_name": "Python 3 (ipykernel)",
      "language": "python",
      "name": "python3"
    },
    "language_info": {
      "codemirror_mode": {
        "name": "ipython",
        "version": 3
      },
      "file_extension": ".py",
      "mimetype": "text/x-python",
      "name": "python",
      "nbconvert_exporter": "python",
      "pygments_lexer": "ipython3",
      "version": "3.9.12"
    },
    "colab": {
      "provenance": []
    }
  },
  "nbformat": 4,
  "nbformat_minor": 5
}