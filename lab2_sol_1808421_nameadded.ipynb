{
  "cells": [
    {
      "cell_type": "markdown",
      "metadata": {
        "id": "av_BcA8wjOFo"
      },
      "source": [
        "##Mariz Essam Sobhy Ghaly\n",
        "##1808421\n",
        "# Backpropagation in Multilayer Neural Networks\n",
        "\n",
        "### Lab is adopted from Olivier Grisel and Charles Ollion\n",
        "### Goals: \n",
        "- implement a real gradient descent in `Numpy`\n",
        "\n",
        "### Dataset:\n",
        "\n",
        "- [sklearn.datasets.load_digits](http://scikit-learn.org/stable/modules/generated/sklearn.datasets.load_digits.html#sklearn.datasets.load_digits)"
      ]
    },
    {
      "cell_type": "code",
      "source": [
        "#Mariz Essam Sobhy Ghaly\n",
        "#1808421"
      ],
      "metadata": {
        "id": "sJOeYfDaz0Q-"
      },
      "execution_count": null,
      "outputs": []
    },
    {
      "cell_type": "code",
      "execution_count": null,
      "metadata": {
        "id": "0VUrZsTDjOFp"
      },
      "outputs": [],
      "source": [
        "%matplotlib inline\n",
        "import matplotlib.pyplot as plt\n",
        "import numpy as np\n",
        "from sklearn.datasets import load_digits\n",
        "\n",
        "digits = load_digits()"
      ]
    },
    {
      "cell_type": "code",
      "execution_count": null,
      "metadata": {
        "colab": {
          "base_uri": "https://localhost:8080/",
          "height": 227
        },
        "id": "C5jPOinZjOFq",
        "outputId": "d89cecd7-bc99-496d-abfd-0c5939dc05a5"
      },
      "outputs": [
        {
          "output_type": "display_data",
          "data": {
            "text/plain": [
              "<Figure size 216x216 with 1 Axes>"
            ],
            "image/png": "[encoded data removed]"
          },
          "metadata": {
            "needs_background": "light"
          }
        }
      ],
      "source": [
        "sample_index = 45\n",
        "plt.figure(figsize=(3, 3))\n",
        "plt.imshow(digits.images[sample_index], cmap=plt.cm.gray_r,\n",
        "           interpolation='nearest')\n",
        "plt.title(\"image label: %d\" % digits.target[sample_index]);"
      ]
    },
    {
      "cell_type": "markdown",
      "metadata": {
        "id": "DtHyFTA9jOFr"
      },
      "source": [
        "### Preprocessing\n",
        "\n",
        "- Normalization\n",
        "- Train / test split"
      ]
    },
    {
      "cell_type": "code",
      "execution_count": null,
      "metadata": {
        "id": "llJRcuQKjOFr"
      },
      "outputs": [],
      "source": [
        "from sklearn import preprocessing\n",
        "from sklearn.model_selection import train_test_split\n",
        "\n",
        "data = np.asarray(digits.data, dtype='float32')\n",
        "target = np.asarray(digits.target, dtype='int32')\n",
        "\n",
        "X_train, X_test, y_train, y_test = train_test_split(\n",
        "    data, target, test_size=0.15, random_state=37)\n",
        "\n",
        "# mean = 0 ; standard deviation = 1.0\n",
        "scaler = preprocessing.StandardScaler()\n",
        "X_train = scaler.fit_transform(X_train)\n",
        "X_test = scaler.transform(X_test)\n",
        "\n",
        "# print(scaler.mean_)\n",
        "# print(scaler.scale_)"
      ]
    },
    {
      "cell_type": "code",
      "execution_count": null,
      "metadata": {
        "colab": {
          "base_uri": "https://localhost:8080/"
        },
        "id": "YYdWYcbojOFs",
        "outputId": "1857e384-61d0-4681-8fc9-a74204a7d525"
      },
      "outputs": [
        {
          "output_type": "execute_result",
          "data": {
            "text/plain": [
              "1797"
            ]
          },
          "metadata": {},
          "execution_count": 4
        }
      ],
      "source": [
        "len(data)"
      ]
    },
    {
      "cell_type": "code",
      "execution_count": null,
      "metadata": {
        "colab": {
          "base_uri": "https://localhost:8080/"
        },
        "id": "CfSMxzt-jOFs",
        "outputId": "25b72893-1e3b-4c5b-c602-87b884d43992"
      },
      "outputs": [
        {
          "output_type": "execute_result",
          "data": {
            "text/plain": [
              "(1527, 64)"
            ]
          },
          "metadata": {},
          "execution_count": 5
        }
      ],
      "source": [
        "X_train.shape"
      ]
    },
    {
      "cell_type": "code",
      "execution_count": null,
      "metadata": {
        "colab": {
          "base_uri": "https://localhost:8080/"
        },
        "id": "JSbUDxrpjOFs",
        "outputId": "c64595fe-437f-4da3-8c7c-a5545d81f754"
      },
      "outputs": [
        {
          "output_type": "execute_result",
          "data": {
            "text/plain": [
              "dtype('float32')"
            ]
          },
          "metadata": {},
          "execution_count": 6
        }
      ],
      "source": [
        "X_train.dtype"
      ]
    },
    {
      "cell_type": "code",
      "execution_count": null,
      "metadata": {
        "colab": {
          "base_uri": "https://localhost:8080/"
        },
        "id": "QnrgMEDdjOFs",
        "outputId": "4e30f7d3-8502-49a1-9115-bfb61dcb2c98"
      },
      "outputs": [
        {
          "output_type": "execute_result",
          "data": {
            "text/plain": [
              "(270, 64)"
            ]
          },
          "metadata": {},
          "execution_count": 7
        }
      ],
      "source": [
        "X_test.shape"
      ]
    },
    {
      "cell_type": "code",
      "execution_count": null,
      "metadata": {
        "colab": {
          "base_uri": "https://localhost:8080/"
        },
        "id": "5wblMT6FjOFt",
        "outputId": "f2cfe4e2-e234-4a2a-c46b-ad46ffdbace7"
      },
      "outputs": [
        {
          "output_type": "execute_result",
          "data": {
            "text/plain": [
              "(1527,)"
            ]
          },
          "metadata": {},
          "execution_count": 8
        }
      ],
      "source": [
        "y_train.shape"
      ]
    },
    {
      "cell_type": "code",
      "execution_count": null,
      "metadata": {
        "colab": {
          "base_uri": "https://localhost:8080/"
        },
        "id": "HKmj7WSUjOFt",
        "outputId": "04e35644-580d-43aa-be11-671a15ea86ed"
      },
      "outputs": [
        {
          "output_type": "execute_result",
          "data": {
            "text/plain": [
              "dtype('int32')"
            ]
          },
          "metadata": {},
          "execution_count": 9
        }
      ],
      "source": [
        "y_train.dtype"
      ]
    },
    {
      "cell_type": "markdown",
      "metadata": {
        "id": "egXd5VDyjOFt"
      },
      "source": [
        "# Numpy Implementation\n",
        "\n",
        "## a) Logistic Regression\n",
        "\n",
        "In this section we will implement a logistic regression model trainable with SGD using numpy. Here are the objectives:\n",
        "\n",
        "- Implement a simple forward model with no hidden layer (equivalent to a logistic regression):\n",
        "note: shape, transpose of W with regards to course\n",
        "$y = softmax(\\mathbf{W} \\dot x + b)$\n",
        "\n",
        "- Build a predict function which returns the most probable class given an input $x$\n",
        "\n",
        "- Build an accuracy function for a batch of inputs $X$ and the corresponding expected outputs $y_{true}$\n",
        "\n",
        "- Build a grad function which computes $\\frac{d}{dW} -\\log(softmax(W \\dot x + b))$ for an $x$ and its corresponding expected output $y_{true}$ ; check that the gradients are well defined\n",
        "\n",
        "- Build a train function which uses the grad function output to update $\\mathbf{W}$ and $b$\n",
        "\n",
        "\n",
        "### One-hot encoding for class label data\n",
        "\n",
        "First let's define a helper function to compute the one hot encoding of an integer array for a fixed number of classes (similar to keras' `to_categorical`):"
      ]
    },
    {
      "cell_type": "code",
      "execution_count": null,
      "metadata": {
        "id": "bLINaSZNjOFt"
      },
      "outputs": [],
      "source": [
        "def one_hot(n_classes, y):\n",
        "    return np.eye(n_classes)[y]"
      ]
    },
    {
      "cell_type": "code",
      "execution_count": null,
      "metadata": {
        "colab": {
          "base_uri": "https://localhost:8080/"
        },
        "id": "rfz2Mxt_jOFu",
        "outputId": "5ccd4f61-16fc-40f8-f0e7-123a8337592e"
      },
      "outputs": [
        {
          "output_type": "execute_result",
          "data": {
            "text/plain": [
              "array([0., 0., 0., 1., 0., 0., 0., 0., 0., 0.])"
            ]
          },
          "metadata": {},
          "execution_count": 11
        }
      ],
      "source": [
        "one_hot(n_classes=10, y=3)"
      ]
    },
    {
      "cell_type": "code",
      "execution_count": null,
      "metadata": {
        "colab": {
          "base_uri": "https://localhost:8080/"
        },
        "id": "JBskiUwUjOFu",
        "outputId": "d1cd13a9-3811-4be5-897e-67bce9de9b69"
      },
      "outputs": [
        {
          "output_type": "execute_result",
          "data": {
            "text/plain": [
              "array([[1., 0., 0., 0., 0., 0., 0., 0., 0., 0.],\n",
              "       [0., 0., 0., 0., 1., 0., 0., 0., 0., 0.],\n",
              "       [0., 0., 0., 0., 0., 0., 0., 0., 0., 1.],\n",
              "       [0., 1., 0., 0., 0., 0., 0., 0., 0., 0.]])"
            ]
          },
          "metadata": {},
          "execution_count": 12
        }
      ],
      "source": [
        "one_hot(n_classes=10, y=[0, 4, 9, 1])"
      ]
    },
    {
      "cell_type": "markdown",
      "metadata": {
        "id": "MrStr0nijOFu"
      },
      "source": [
        "### The softmax function\n",
        "\n",
        "Now let's implement the softmax vector function:\n",
        "\n",
        "$$\n",
        "softmax(\\mathbf{x}) = \\frac{1}{\\sum_{i=1}^{n}{e^{x_i}}}\n",
        "\\cdot\n",
        "\\begin{bmatrix}\n",
        "  e^{x_1}\\\\\\\\\n",
        "  e^{x_2}\\\\\\\\\n",
        "  \\vdots\\\\\\\\\n",
        "  e^{x_n}\n",
        "\\end{bmatrix}\n",
        "$$"
      ]
    },
    {
      "cell_type": "code",
      "execution_count": null,
      "metadata": {
        "id": "vSsweL1EjOFu"
      },
      "outputs": [],
      "source": [
        "def softmax(X):\n",
        "    # TODO:\n",
        "    elements = np.exp(X)\n",
        "    return elements / np.sum(elements, axis=-1, keepdims=True)"
      ]
    },
    {
      "cell_type": "markdown",
      "metadata": {
        "id": "kRz7QZ2KjOFu"
      },
      "source": [
        "Make sure that this works one vector at a time (and check that the components sum to one):"
      ]
    },
    {
      "cell_type": "code",
      "execution_count": null,
      "metadata": {
        "colab": {
          "base_uri": "https://localhost:8080/"
        },
        "id": "qjuF3UMUjOFu",
        "outputId": "ce6b5356-4be7-402d-9966-7c25ef959824"
      },
      "outputs": [
        {
          "output_type": "stream",
          "name": "stdout",
          "text": [
            "[9.99662391e-01 3.35349373e-04 2.25956630e-06]\n"
          ]
        }
      ],
      "source": [
        "print(softmax([10, 2, -3]))"
      ]
    },
    {
      "cell_type": "markdown",
      "metadata": {
        "id": "vOzI03kTjOFv"
      },
      "source": [
        "Note that a naive implementation of softmax might not be able process a batch of activations in a single call:"
      ]
    },
    {
      "cell_type": "code",
      "execution_count": null,
      "metadata": {
        "colab": {
          "base_uri": "https://localhost:8080/"
        },
        "id": "YkxAsQw1jOFv",
        "outputId": "1fd0cf35-be4a-48e2-e0c0-6a41af69e6f1"
      },
      "outputs": [
        {
          "output_type": "stream",
          "name": "stdout",
          "text": [
            "[[9.99662391e-01 3.35349373e-04 2.25956630e-06]\n",
            " [2.47262316e-03 9.97527377e-01 1.38536042e-11]]\n"
          ]
        }
      ],
      "source": [
        "X = np.array([[10, 2, -3],\n",
        "              [-1, 5, -20]])\n",
        "print(softmax(X))"
      ]
    },
    {
      "cell_type": "markdown",
      "metadata": {
        "id": "T0MnbvskjOFv"
      },
      "source": [
        "Here is a way to implement softmax that works both for an individual vector of activations and for a batch of activation vectors at once:"
      ]
    },
    {
      "cell_type": "code",
      "execution_count": null,
      "metadata": {
        "colab": {
          "base_uri": "https://localhost:8080/"
        },
        "id": "IcgCvdoXjOFv",
        "outputId": "9a45d4eb-3860-401e-ec1b-43167d2f6cda"
      },
      "outputs": [
        {
          "output_type": "stream",
          "name": "stdout",
          "text": [
            "softmax of a single vector:\n",
            "[9.99662391e-01 3.35349373e-04 2.25956630e-06]\n"
          ]
        }
      ],
      "source": [
        "def softmax(X):\n",
        "    exp = np.exp(X)\n",
        "    return exp / np.sum(exp, axis=-1, keepdims=True)\n",
        "\n",
        "\n",
        "print(\"softmax of a single vector:\")\n",
        "print(softmax([10, 2, -3]))"
      ]
    },
    {
      "cell_type": "markdown",
      "metadata": {
        "id": "2pzmHO2_jOFv"
      },
      "source": [
        "Probabilities should sum to 1:"
      ]
    },
    {
      "cell_type": "code",
      "execution_count": null,
      "metadata": {
        "colab": {
          "base_uri": "https://localhost:8080/"
        },
        "id": "AUAINefljOFv",
        "outputId": "d966802e-9aa7-4075-fbe7-048b4f8530b2"
      },
      "outputs": [
        {
          "output_type": "stream",
          "name": "stdout",
          "text": [
            "1.0\n"
          ]
        }
      ],
      "source": [
        "print(np.sum(softmax([10, 2, -3])))"
      ]
    },
    {
      "cell_type": "code",
      "execution_count": null,
      "metadata": {
        "colab": {
          "base_uri": "https://localhost:8080/"
        },
        "id": "MXr7mbxDjOFv",
        "outputId": "463deda0-8005-475e-9153-c347618ed57e"
      },
      "outputs": [
        {
          "output_type": "stream",
          "name": "stdout",
          "text": [
            "sotfmax of 2 vectors:\n",
            "[[9.99662391e-01 3.35349373e-04 2.25956630e-06]\n",
            " [2.47262316e-03 9.97527377e-01 1.38536042e-11]]\n"
          ]
        }
      ],
      "source": [
        "print(\"sotfmax of 2 vectors:\")\n",
        "X = np.array([[10, 2, -3],\n",
        "              [-1, 5, -20]])\n",
        "print(softmax(X))"
      ]
    },
    {
      "cell_type": "markdown",
      "metadata": {
        "id": "ZyIL8fQyjOFw"
      },
      "source": [
        "The sum of probabilities for each input vector of logits should some to 1:"
      ]
    },
    {
      "cell_type": "code",
      "execution_count": null,
      "metadata": {
        "colab": {
          "base_uri": "https://localhost:8080/"
        },
        "id": "IDdM32rJjOFw",
        "outputId": "e74f1250-7e26-4ffa-a00a-bcf8f5705d7e"
      },
      "outputs": [
        {
          "output_type": "stream",
          "name": "stdout",
          "text": [
            "[1. 1.]\n"
          ]
        }
      ],
      "source": [
        "print(np.sum(softmax(X), axis=1))"
      ]
    },
    {
      "cell_type": "markdown",
      "metadata": {
        "id": "lruv7qZfjOFw"
      },
      "source": [
        "Implement a function that given the true one-hot encoded class `Y_true` and and some predicted probabilities `Y_pred` returns the negative log likelihood."
      ]
    },
    {
      "cell_type": "code",
      "execution_count": null,
      "metadata": {
        "colab": {
          "base_uri": "https://localhost:8080/"
        },
        "id": "cJanGk7njOFw",
        "outputId": "91a435b2-20eb-4e31-f1d2-93278f321d3b"
      },
      "outputs": [
        {
          "output_type": "stream",
          "name": "stdout",
          "text": [
            "0.010049325753001472\n"
          ]
        }
      ],
      "source": [
        "def nll(Y_true, Y_pred):\n",
        "    eps = 0.000001\n",
        "    Y_true = np.asarray(Y_true)\n",
        "    Y_pred = np.asarray(Y_pred)\n",
        "    Y_true = np.atleast_2d(Y_true)\n",
        "    Y_pred = np.atleast_2d(Y_pred)\n",
        "    logliklihood = np.sum(Y_true * np.log(Y_pred+eps), axis=1)\n",
        "    # TODO\n",
        "    return -1 * np.mean(logliklihood)\n",
        "\n",
        "\n",
        "# Make sure that it works for a simple sample at a time\n",
        "print(nll([1, 0, 0], [.99, 0.01, 0]))"
      ]
    },
    {
      "cell_type": "markdown",
      "metadata": {
        "id": "oISkntsqjOFw"
      },
      "source": [
        "Check that the nll of a very confident yet bad prediction is a much higher positive number:"
      ]
    },
    {
      "cell_type": "code",
      "execution_count": null,
      "metadata": {
        "colab": {
          "base_uri": "https://localhost:8080/"
        },
        "id": "02ywO_ZHjOFw",
        "outputId": "6076793b-29d0-47ee-f379-71cabe19ab60"
      },
      "outputs": [
        {
          "output_type": "stream",
          "name": "stdout",
          "text": [
            "4.6050701909877585\n"
          ]
        }
      ],
      "source": [
        "print(nll([1, 0, 0], [0.01, 0.01, .98]))"
      ]
    },
    {
      "cell_type": "markdown",
      "metadata": {
        "id": "B_CVVqBajOFw"
      },
      "source": [
        "Make sure that your implementation can compute the average negative log likelihood of a group of predictions: `Y_pred` and `Y_true` can therefore be past as 2D arrays:"
      ]
    },
    {
      "cell_type": "code",
      "execution_count": null,
      "metadata": {
        "colab": {
          "base_uri": "https://localhost:8080/"
        },
        "id": "_bUgUrXLjOFx",
        "outputId": "3035d168-85ae-410a-ea6c-d5d5ffd5272a"
      },
      "outputs": [
        {
          "output_type": "stream",
          "name": "stdout",
          "text": [
            "0.0033491085846672117\n"
          ]
        }
      ],
      "source": [
        "# Check that the average NLL of the following 3 almost perfect\n",
        "# predictions is close to 0\n",
        "Y_true = np.array([[0, 1, 0],\n",
        "                   [1, 0, 0],\n",
        "                   [0, 0, 1]])\n",
        "\n",
        "Y_pred = np.array([[0,   1,    0],\n",
        "                   [.99, 0.01, 0],\n",
        "                   [0,   0,    1]])\n",
        "\n",
        "print(nll(Y_true, Y_pred))"
      ]
    },
    {
      "cell_type": "code",
      "execution_count": null,
      "metadata": {
        "id": "kjEhFDrqjOFx"
      },
      "outputs": [],
      "source": [
        "# %load solutions/numpy_nll.py"
      ]
    },
    {
      "cell_type": "markdown",
      "metadata": {
        "id": "fX_MRPkfjOFx"
      },
      "source": [
        "Let us now study the following linear model trainable by SGD, **one sample at a time**."
      ]
    },
    {
      "cell_type": "code",
      "execution_count": null,
      "metadata": {
        "id": "xrDTCX2njOFx"
      },
      "outputs": [],
      "source": [
        "class LogisticRegression():\n",
        "\n",
        "    def __init__(self, input_size, output_size):\n",
        "        self.W = np.random.uniform(size=(input_size, output_size),\n",
        "                                   high=0.1, low=-0.1)\n",
        "        self.b = np.random.uniform(size=output_size,\n",
        "                                   high=0.1, low=-0.1)\n",
        "        self.output_size = output_size\n",
        "        \n",
        "    def forward(self, X):\n",
        "        Z = np.dot(X, self.W) + self.b\n",
        "        return softmax(Z)\n",
        "    \n",
        "    def predict(self, X):\n",
        "        if len(X.shape) == 1:\n",
        "            return np.argmax(self.forward(X))\n",
        "        else:\n",
        "            return np.argmax(self.forward(X), axis=1)\n",
        "    \n",
        "    def grad_loss(self, x, y_true):\n",
        "        y_pred = self.forward(x)\n",
        "        dnll_output =  y_pred - one_hot(self.output_size, y_true)\n",
        "        grad_W = np.outer(x, dnll_output)\n",
        "        grad_b = dnll_output\n",
        "        grads = {\"W\": grad_W, \"b\": grad_b}\n",
        "        return grads\n",
        "    \n",
        "    def train(self, x, y, learning_rate):\n",
        "        # Traditional SGD update without momentum\n",
        "        grads = self.grad_loss(x, y)\n",
        "        self.W = self.W - learning_rate * grads[\"W\"]\n",
        "        self.b = self.b - learning_rate * grads[\"b\"]      \n",
        "        \n",
        "    def loss(self, X, y):\n",
        "        return nll(one_hot(self.output_size, y), self.forward(X))\n",
        "\n",
        "    def accuracy(self, X, y):\n",
        "        y_preds = np.argmax(self.forward(X), axis=1)\n",
        "        return np.mean(y_preds == y)"
      ]
    },
    {
      "cell_type": "code",
      "execution_count": null,
      "metadata": {
        "colab": {
          "base_uri": "https://localhost:8080/"
        },
        "id": "-fJm3R99jOFy",
        "outputId": "279c0344-9f1f-40f5-8103-037976c83e9b"
      },
      "outputs": [
        {
          "output_type": "stream",
          "name": "stdout",
          "text": [
            "Evaluation of the untrained model:\n",
            "train loss: 2.2330, train acc: 0.219, test acc: 0.196\n"
          ]
        }
      ],
      "source": [
        "# Build a model and test its forward inference\n",
        "n_features = X_train.shape[1]\n",
        "n_classes = len(np.unique(y_train))\n",
        "lr = LogisticRegression(n_features, n_classes)\n",
        "\n",
        "print(\"Evaluation of the untrained model:\")\n",
        "train_loss = lr.loss(X_train, y_train)\n",
        "train_acc = lr.accuracy(X_train, y_train)\n",
        "test_acc = lr.accuracy(X_test, y_test)\n",
        "\n",
        "print(\"train loss: %0.4f, train acc: %0.3f, test acc: %0.3f\"\n",
        "      % (train_loss, train_acc, test_acc))"
      ]
    },
    {
      "cell_type": "markdown",
      "metadata": {
        "id": "3ShDln8PjOFy"
      },
      "source": [
        "Evaluate the randomly initialized model on the first example:"
      ]
    },
    {
      "cell_type": "code",
      "execution_count": null,
      "metadata": {
        "colab": {
          "base_uri": "https://localhost:8080/",
          "height": 295
        },
        "id": "zliCcXKXjOFy",
        "outputId": "907591c2-3340-42f1-ea58-48ac98f873e8"
      },
      "outputs": [
        {
          "output_type": "display_data",
          "data": {
            "text/plain": [
              "<Figure size 720x288 with 2 Axes>"
            ],
            "image/png": "[encoded data removed]"
          },
          "metadata": {
            "needs_background": "light"
          }
        }
      ],
      "source": [
        "def plot_prediction(model, sample_idx=0, classes=range(10)):\n",
        "    fig, (ax0, ax1) = plt.subplots(nrows=1, ncols=2, figsize=(10, 4))\n",
        "\n",
        "    ax0.imshow(scaler.inverse_transform([X_test[sample_idx]]).reshape(8, 8), cmap=plt.cm.gray_r,\n",
        "               interpolation='nearest')\n",
        "    ax0.set_title(\"True image label: %d\" % y_test[sample_idx]);\n",
        "\n",
        "\n",
        "    ax1.bar(classes, one_hot(len(classes), y_test[sample_idx]), label='true')\n",
        "    ax1.bar(classes, model.forward(X_test[sample_idx]), label='prediction', color=\"red\")\n",
        "    ax1.set_xticks(classes)\n",
        "    prediction = model.predict(X_test[sample_idx])\n",
        "    ax1.set_title('Output probabilities (prediction: %d)'\n",
        "                  % prediction)\n",
        "    ax1.set_xlabel('Digit class')\n",
        "    ax1.legend()\n",
        "    \n",
        "plot_prediction(lr, sample_idx=0)"
      ]
    },
    {
      "cell_type": "code",
      "execution_count": null,
      "metadata": {
        "colab": {
          "base_uri": "https://localhost:8080/"
        },
        "id": "e7iKemOqjOFy",
        "outputId": "3ec6929d-13ee-45fe-b475-2fb12cb3d41a"
      },
      "outputs": [
        {
          "output_type": "stream",
          "name": "stdout",
          "text": [
            "Update #0, train loss: 2.2217, train acc: 0.235, test acc: 0.230\n",
            "Update #100, train loss: 1.2591, train acc: 0.724, test acc: 0.722\n",
            "Update #200, train loss: 0.8265, train acc: 0.864, test acc: 0.878\n",
            "Update #300, train loss: 0.6233, train acc: 0.900, test acc: 0.896\n",
            "Update #400, train loss: 0.5221, train acc: 0.908, test acc: 0.900\n",
            "Update #500, train loss: 0.4530, train acc: 0.919, test acc: 0.915\n",
            "Update #600, train loss: 0.3973, train acc: 0.925, test acc: 0.933\n",
            "Update #700, train loss: 0.3612, train acc: 0.934, test acc: 0.952\n",
            "Update #800, train loss: 0.3408, train acc: 0.942, test acc: 0.952\n",
            "Update #900, train loss: 0.3170, train acc: 0.936, test acc: 0.952\n",
            "Update #1000, train loss: 0.2993, train acc: 0.946, test acc: 0.959\n",
            "Update #1100, train loss: 0.2812, train acc: 0.946, test acc: 0.963\n",
            "Update #1200, train loss: 0.2696, train acc: 0.948, test acc: 0.970\n",
            "Update #1300, train loss: 0.2590, train acc: 0.949, test acc: 0.941\n",
            "Update #1400, train loss: 0.2459, train acc: 0.954, test acc: 0.963\n",
            "Update #1500, train loss: 0.2324, train acc: 0.955, test acc: 0.956\n"
          ]
        }
      ],
      "source": [
        "# Training for one epoch\n",
        "learning_rate = 0.01\n",
        "\n",
        "for i, (x, y) in enumerate(zip(X_train, y_train)):\n",
        "    lr.train(x, y, learning_rate)\n",
        "    if i % 100 == 0:\n",
        "        train_loss = lr.loss(X_train, y_train)\n",
        "        train_acc = lr.accuracy(X_train, y_train)\n",
        "        test_acc = lr.accuracy(X_test, y_test)\n",
        "        print(\"Update #%d, train loss: %0.4f, train acc: %0.3f, test acc: %0.3f\"\n",
        "              % (i, train_loss, train_acc, test_acc))"
      ]
    },
    {
      "cell_type": "markdown",
      "metadata": {
        "id": "lNb3Xi8tjOFz"
      },
      "source": [
        "Evaluate the trained model on the first example:"
      ]
    },
    {
      "cell_type": "code",
      "execution_count": null,
      "metadata": {
        "colab": {
          "base_uri": "https://localhost:8080/",
          "height": 295
        },
        "id": "z-24dW76jOFz",
        "outputId": "4abc00d6-c612-45fa-a8e7-cd7970b9dc0d"
      },
      "outputs": [
        {
          "output_type": "display_data",
          "data": {
            "text/plain": [
              "<Figure size 720x288 with 2 Axes>"
            ],
            "image/png": "[encoded data removed]"
          },
          "metadata": {
            "needs_background": "light"
          }
        }
      ],
      "source": [
        "plot_prediction(lr, sample_idx=0)"
      ]
    },
    {
      "cell_type": "markdown",
      "metadata": {
        "id": "tbVhvFJdjOFz"
      },
      "source": [
        "## b) Feedforward Multilayer\n",
        "\n",
        "The objective of this section is to implement the backpropagation algorithm (SGD with the chain rule) on a single layer neural network using the sigmoid activation function.\n",
        "\n",
        "- Implement the `sigmoid` and its element-wise derivative `dsigmoid` functions:\n",
        "\n",
        "$$\n",
        "sigmoid(x) = \\frac{1}{1 + e^{-x}}\n",
        "$$\n",
        "\n",
        "$$\n",
        "dsigmoid(x) = sigmoid(x) \\cdot (1 - sigmoid(x))\n",
        "$$"
      ]
    },
    {
      "cell_type": "code",
      "execution_count": null,
      "metadata": {
        "colab": {
          "base_uri": "https://localhost:8080/",
          "height": 265
        },
        "id": "fWNIm9YYjOFz",
        "outputId": "bb24b067-3a9d-4b4e-a99a-4d4e8f0a18b3"
      },
      "outputs": [
        {
          "output_type": "display_data",
          "data": {
            "text/plain": [
              "<Figure size 432x288 with 1 Axes>"
            ],
            "image/png": "[encoded data removed]"
          },
          "metadata": {
            "needs_background": "light"
          }
        }
      ],
      "source": [
        "def sigmoid(X):\n",
        "    # TODO\n",
        "    return 1 / (1 + np.exp(-X))\n",
        "\n",
        "\n",
        "def dsigmoid(X):\n",
        "    # TODO\n",
        "    sig = sigmoid(X)\n",
        "    return sig * (1 - sig)\n",
        "\n",
        "\n",
        "x = np.linspace(-5, 5, 100)\n",
        "plt.plot(x, sigmoid(x), label='sigmoid')\n",
        "plt.plot(x, dsigmoid(x), label='dsigmoid')\n",
        "plt.legend(loc='best');"
      ]
    },
    {
      "cell_type": "code",
      "execution_count": null,
      "metadata": {
        "id": "ekJ7PIKdjOFz"
      },
      "outputs": [],
      "source": [
        "# %load solutions/sigmoid.py"
      ]
    },
    {
      "cell_type": "markdown",
      "metadata": {
        "id": "7LWkAHPHjOFz"
      },
      "source": [
        "- Implement `forward` and `forward_keep_all` functions for a model with a hidden layer with a sigmoid activation function:\n",
        "  - $\\mathbf{h} = sigmoid(\\mathbf{W}^h \\mathbf{x} + \\mathbf{b^h})$\n",
        "  - $\\mathbf{y} = softmax(\\mathbf{W}^o \\mathbf{h} + \\mathbf{b^o})$\n",
        "\n",
        "- Notes: \n",
        "  - try to keep the code as similar as possible as the previous one;\n",
        "  - `forward` now has a keep activations parameter to also return hidden activations and pre activations;\n",
        "\n",
        "- Update the grad function to compute all gradients; check that the gradients are well defined;\n",
        "\n",
        "- Implement the `train` and `loss` functions.\n",
        "\n"
      ]
    },
    {
      "cell_type": "code",
      "execution_count": null,
      "metadata": {
        "id": "WkyNFT5JjOFz"
      },
      "outputs": [],
      "source": [
        "EPSILON = 1e-8\n",
        "\n",
        "\n",
        "class NeuralNet():\n",
        "    \"\"\"MLP with 1 hidden layer with a sigmoid activation\"\"\"\n",
        "    \n",
        "    def __init__(self, input_size, hidden_size, output_size):\n",
        "        # TODO\n",
        "        self.W_h = np.random.uniform(size = (input_size, hidden_size), high = 0.1, low = -0.1)\n",
        "        self.b_h = np.zeros(hidden_size)\n",
        "        self.W_o = np.random.uniform(size = (hidden_size, output_size), high = 0.1, low = -0.1)\n",
        "        self.b_o = np.zeros(output_size)\n",
        "        self.output_size = output_size\n",
        "            \n",
        "#     def forward_keep_activations(self, X):\n",
        "#         # TODO\n",
        "#         z_h = 0.\n",
        "#         h = 0.\n",
        "#         y = np.zeros(size=self.output_size)\n",
        "#         return y, h, z_h\n",
        "\n",
        "    def forward(self, X, keep_activations=False):\n",
        "        z_h = np.dot(X, self.W_h) + self.b_h\n",
        "        h = sigmoid(z_h)\n",
        "        z_o = np.dot(h, self.W_o) + self.b_o\n",
        "        y = softmax(z_o)\n",
        "        if keep_activations == True:\n",
        "            return y, h, z_h\n",
        "        else:\n",
        "            return y\n",
        "#         y, h, z_h = self.forward_keep_activations(X)\n",
        "#         return y\n",
        "    \n",
        "    def loss(self, X, y):\n",
        "        # TODO\n",
        "        return nll(one_hot(self.output_size, y), self.forward(X))\n",
        "\n",
        "    def grad_loss(self, x, y_true):\n",
        "        # TODO\n",
        "        y, h, z_h = self.forward(x, keep_activations=True)\n",
        "        grad_z_o = y - one_hot(self.output_size, y_true)\n",
        "        \n",
        "        grad_W_o = np.outer(h, grad_z_o)\n",
        "        grad_b_o = grad_z_o\n",
        "        \n",
        "        grad_h = np.dot(grad_z_o, np.transpose(self.W_o))\n",
        "        grad_z_h =  grad_h * dsigmoid(z_h)\n",
        "        \n",
        "        grad_W_h = np.outer(x, grad_z_h)\n",
        "        grad_b_h = grad_z_h\n",
        "        \n",
        "        return {\"W_h\": grad_W_h, \"b_h\": grad_b_h, \"W_o\": grad_W_o, \"b_o\": grad_b_o}\n",
        "\n",
        "    def train(self, x, y, learning_rate):\n",
        "        # TODO\n",
        "        grads = self.grad_loss(x, y)\n",
        "        self.W_h = self.W_h - learning_rate * grads['W_h']\n",
        "        self.b_h = self.b_h - learning_rate * grads['b_h']\n",
        "        self.W_o = self.W_o - learning_rate * grads['W_o']\n",
        "        self.b_o = self.b_o - learning_rate * grads['b_o']\n",
        "\n",
        "    def predict(self, X):\n",
        "        if len(X.shape) == 1:\n",
        "            return np.argmax(self.forward(X))\n",
        "        else:\n",
        "            return np.argmax(self.forward(X), axis=1)\n",
        "\n",
        "    def accuracy(self, X, y):\n",
        "        y_preds = np.argmax(self.forward(X), axis=1)\n",
        "        return np.mean(y_preds == y)"
      ]
    },
    {
      "cell_type": "code",
      "execution_count": null,
      "metadata": {
        "id": "ExFznAG2jOF0"
      },
      "outputs": [],
      "source": [
        "# %load solutions/neural_net.py"
      ]
    },
    {
      "cell_type": "code",
      "execution_count": null,
      "metadata": {
        "id": "vn0rl1wdjOF0"
      },
      "outputs": [],
      "source": [
        "n_hidden = 10\n",
        "model = NeuralNet(n_features, n_hidden, n_classes)"
      ]
    },
    {
      "cell_type": "code",
      "execution_count": null,
      "metadata": {
        "colab": {
          "base_uri": "https://localhost:8080/"
        },
        "id": "99jyiz3BjOF0",
        "outputId": "8ebfd2f4-0a15-4a4e-c5c9-fff4795dce6a"
      },
      "outputs": [
        {
          "output_type": "execute_result",
          "data": {
            "text/plain": [
              "2.304689340377849"
            ]
          },
          "metadata": {},
          "execution_count": 34
        }
      ],
      "source": [
        "model.loss(X_train, y_train)"
      ]
    },
    {
      "cell_type": "code",
      "execution_count": null,
      "metadata": {
        "colab": {
          "base_uri": "https://localhost:8080/"
        },
        "id": "vYh8bHlcjOF0",
        "outputId": "b54a5cf8-a394-4da4-8867-1a8cd3ff13eb"
      },
      "outputs": [
        {
          "output_type": "execute_result",
          "data": {
            "text/plain": [
              "0.05697445972495088"
            ]
          },
          "metadata": {},
          "execution_count": 35
        }
      ],
      "source": [
        "model.accuracy(X_train, y_train)"
      ]
    },
    {
      "cell_type": "code",
      "execution_count": null,
      "metadata": {
        "colab": {
          "base_uri": "https://localhost:8080/",
          "height": 295
        },
        "id": "eWsacmFpjOF0",
        "outputId": "08658bd0-a3d9-433c-e5f8-e3d48195c4a8"
      },
      "outputs": [
        {
          "output_type": "display_data",
          "data": {
            "text/plain": [
              "<Figure size 720x288 with 2 Axes>"
            ],
            "image/png": "[encoded data removed]"
          },
          "metadata": {
            "needs_background": "light"
          }
        }
      ],
      "source": [
        "plot_prediction(model, sample_idx=5)"
      ]
    },
    {
      "cell_type": "code",
      "execution_count": null,
      "metadata": {
        "colab": {
          "base_uri": "https://localhost:8080/"
        },
        "id": "c44xEzgkjOF1",
        "outputId": "2fee663d-651e-48cc-a2f4-8be23bf08976"
      },
      "outputs": [
        {
          "output_type": "stream",
          "name": "stdout",
          "text": [
            "Random init: train loss: 2.30469, train acc: 0.057, test acc: 0.063\n",
            "Epoch #1, train loss: 0.28582, train acc: 0.940, test acc: 0.926\n",
            "Epoch #2, train loss: 0.14236, train acc: 0.976, test acc: 0.941\n",
            "Epoch #3, train loss: 0.10122, train acc: 0.984, test acc: 0.952\n",
            "Epoch #4, train loss: 0.07385, train acc: 0.990, test acc: 0.956\n",
            "Epoch #5, train loss: 0.06098, train acc: 0.992, test acc: 0.959\n",
            "Epoch #6, train loss: 0.06039, train acc: 0.991, test acc: 0.948\n",
            "Epoch #7, train loss: 0.04719, train acc: 0.995, test acc: 0.959\n",
            "Epoch #8, train loss: 0.04175, train acc: 0.996, test acc: 0.948\n",
            "Epoch #9, train loss: 0.03733, train acc: 0.997, test acc: 0.956\n",
            "Epoch #10, train loss: 0.04037, train acc: 0.992, test acc: 0.948\n",
            "Epoch #11, train loss: 0.03034, train acc: 0.996, test acc: 0.956\n",
            "Epoch #12, train loss: 0.02425, train acc: 0.997, test acc: 0.963\n",
            "Epoch #13, train loss: 0.02069, train acc: 0.997, test acc: 0.959\n",
            "Epoch #14, train loss: 0.01877, train acc: 0.998, test acc: 0.959\n",
            "Epoch #15, train loss: 0.01698, train acc: 0.998, test acc: 0.959\n"
          ]
        }
      ],
      "source": [
        "losses, accuracies, accuracies_test = [], [], []\n",
        "losses.append(model.loss(X_train, y_train))\n",
        "accuracies.append(model.accuracy(X_train, y_train))\n",
        "accuracies_test.append(model.accuracy(X_test, y_test))\n",
        "\n",
        "print(\"Random init: train loss: %0.5f, train acc: %0.3f, test acc: %0.3f\"\n",
        "      % (losses[-1], accuracies[-1], accuracies_test[-1]))\n",
        "\n",
        "for epoch in range(15):\n",
        "    for i, (x, y) in enumerate(zip(X_train, y_train)):\n",
        "        model.train(x, y, 0.1)\n",
        "\n",
        "    losses.append(model.loss(X_train, y_train))\n",
        "    accuracies.append(model.accuracy(X_train, y_train))\n",
        "    accuracies_test.append(model.accuracy(X_test, y_test))\n",
        "    print(\"Epoch #%d, train loss: %0.5f, train acc: %0.3f, test acc: %0.3f\"\n",
        "          % (epoch + 1, losses[-1], accuracies[-1], accuracies_test[-1]))"
      ]
    },
    {
      "cell_type": "code",
      "execution_count": null,
      "metadata": {
        "colab": {
          "base_uri": "https://localhost:8080/",
          "height": 281
        },
        "id": "9zmc6NGljOF1",
        "outputId": "9eb09cc7-31c9-44c5-eb4f-5c6972f06012"
      },
      "outputs": [
        {
          "output_type": "display_data",
          "data": {
            "text/plain": [
              "<Figure size 432x288 with 1 Axes>"
            ],
            "image/png": "[encoded data removed]"
          },
          "metadata": {
            "needs_background": "light"
          }
        }
      ],
      "source": [
        "plt.plot(losses)\n",
        "plt.title(\"Training loss\");"
      ]
    },
    {
      "cell_type": "code",
      "execution_count": null,
      "metadata": {
        "colab": {
          "base_uri": "https://localhost:8080/",
          "height": 265
        },
        "id": "8MZbC5mFjOF1",
        "outputId": "ffafc3af-e9ff-4d81-ab03-bf2472c14581"
      },
      "outputs": [
        {
          "output_type": "display_data",
          "data": {
            "text/plain": [
              "<Figure size 432x288 with 1 Axes>"
            ],
            "image/png": "[encoded data removed]"
          },
          "metadata": {
            "needs_background": "light"
          }
        }
      ],
      "source": [
        "plt.plot(accuracies, label='train')\n",
        "plt.plot(accuracies_test, label='test')\n",
        "plt.ylim(0, 1.1)\n",
        "plt.ylabel(\"accuracy\")\n",
        "plt.legend(loc='best');"
      ]
    },
    {
      "cell_type": "code",
      "execution_count": null,
      "metadata": {
        "colab": {
          "base_uri": "https://localhost:8080/",
          "height": 295
        },
        "id": "8xA4e_lhjOF1",
        "outputId": "e501e77f-b09c-451d-a69d-d030e8ce3031"
      },
      "outputs": [
        {
          "output_type": "display_data",
          "data": {
            "text/plain": [
              "<Figure size 720x288 with 2 Axes>"
            ],
            "image/png": "[encoded data removed]"
          },
          "metadata": {
            "needs_background": "light"
          }
        }
      ],
      "source": [
        "plot_prediction(model, sample_idx=4)"
      ]
    },
    {
      "cell_type": "markdown",
      "metadata": {
        "id": "0L5CbanHjOF1"
      },
      "source": [
        "## c) Exercises\n",
        "\n",
        "### Look at worst prediction errors\n",
        "\n",
        "- Use numpy to find test samples for which the model made the worst predictions,\n",
        "- Use the `plot_prediction` to look at the model predictions on those,\n",
        "- Would you have done any better?"
      ]
    },
    {
      "cell_type": "code",
      "execution_count": null,
      "metadata": {
        "scrolled": true,
        "id": "3djXqRFejOF1"
      },
      "outputs": [],
      "source": [
        "# %load solutions/worst_predictions.py"
      ]
    },
    {
      "cell_type": "code",
      "execution_count": null,
      "metadata": {
        "colab": {
          "base_uri": "https://localhost:8080/",
          "height": 1000
        },
        "id": "x7F9_pm5jOF1",
        "outputId": "7732c8d2-6be5-4e12-eba4-4c30e328493e"
      },
      "outputs": [
        {
          "output_type": "stream",
          "name": "stdout",
          "text": [
            "11\n"
          ]
        },
        {
          "output_type": "display_data",
          "data": {
            "text/plain": [
              "<Figure size 720x288 with 2 Axes>"
            ],
            "image/png": "[encoded data removed]"
          },
          "metadata": {
            "needs_background": "light"
          }
        },
        {
          "output_type": "display_data",
          "data": {
            "text/plain": [
              "<Figure size 720x288 with 2 Axes>"
            ],
            "image/png": "[encoded data removed]"
          },
          "metadata": {
            "needs_background": "light"
          }
        },
        {
          "output_type": "display_data",
          "data": {
            "text/plain": [
              "<Figure size 720x288 with 2 Axes>"
            ],
            "image/png": "[encoded data removed]"
          },
          "metadata": {
            "needs_background": "light"
          }
        },
        {
          "output_type": "display_data",
          "data": {
            "text/plain": [
              "<Figure size 720x288 with 2 Axes>"
            ],
            "image/png": "[encoded data removed]"
          },
          "metadata": {
            "needs_background": "light"
          }
        },
        {
          "output_type": "display_data",
          "data": {
            "text/plain": [
              "<Figure size 720x288 with 2 Axes>"
            ],
            "image/png": "[encoded data removed]"
          },
          "metadata": {
            "needs_background": "light"
          }
        },
        {
          "output_type": "display_data",
          "data": {
            "text/plain": [
              "<Figure size 720x288 with 2 Axes>"
            ],
            "image/png": "[encoded data removed]"
          },
          "metadata": {
            "needs_background": "light"
          }
        },
        {
          "output_type": "display_data",
          "data": {
            "text/plain": [
              "<Figure size 720x288 with 2 Axes>"
            ],
            "image/png": "[encoded data removed]"
          },
          "metadata": {
            "needs_background": "light"
          }
        },
        {
          "output_type": "display_data",
          "data": {
            "text/plain": [
              "<Figure size 720x288 with 2 Axes>"
            ],
            "image/png": "[encoded data removed]"
          },
          "metadata": {
            "needs_background": "light"
          }
        },
        {
          "output_type": "display_data",
          "data": {
            "text/plain": [
              "<Figure size 720x288 with 2 Axes>"
            ],
            "image/png": "[encoded data removed]"
          },
          "metadata": {
            "needs_background": "light"
          }
        },
        {
          "output_type": "display_data",
          "data": {
            "text/plain": [
              "<Figure size 720x288 with 2 Axes>"
            ],
            "image/png": "[encoded data removed]"
          },
          "metadata": {
            "needs_background": "light"
          }
        },
        {
          "output_type": "display_data",
          "data": {
            "text/plain": [
              "<Figure size 720x288 with 2 Axes>"
            ],
            "image/png": "[encoded data removed]"
          },
          "metadata": {
            "needs_background": "light"
          }
        }
      ],
      "source": [
        "# X_test, y_test\n",
        "y_preds = model.predict(X_test)\n",
        "bad_preds_index = []\n",
        "for i in range(len(y_preds)):\n",
        "    if not (y_preds[i] == y_test[i]):\n",
        "        bad_preds_index.append(i)\n",
        "        plot_prediction(model, sample_idx=i)\n",
        "print(len(bad_preds_index))"
      ]
    },
    {
      "cell_type": "markdown",
      "metadata": {
        "id": "c4dSkAAzjOF1"
      },
      "source": [
        "### Hyper parameters settings\n",
        "\n",
        "- Experiment with different hyper parameters:\n",
        "  - learning rate,\n",
        "  - size of hidden layer,\n",
        "  - initialization scheme: test with 0 initialization vs uniform,\n",
        "  - implement other activation functions,\n",
        "  - implement the support for a second hidden layer.\n",
        "\n",
        "\n",
        "\n",
        "\n",
        "### Back to Keras\n",
        "\n",
        "- Implement the same network architecture with Keras;\n",
        "\n",
        "- Check that the Keras model can approximately reproduce the behavior of the Numpy model when using similar hyperparameter values (size of the model, type of activations, learning rate value and use of momentum);\n",
        "\n",
        "- Compute the negative log likelihood of a sample 42 in the test set (can use `model.predict_proba`);\n",
        "\n",
        "- Compute the average negative log-likelihood on the full test set.\n",
        "\n",
        "- Compute the average negative log-likelihood  on the full training set and check that you can get the value of the loss reported by Keras.\n",
        "\n",
        "- Is the model overfitting or underfitting? (ensure that the model has fully converged by increasing the number of epochs to 50 or more if necessary)."
      ]
    },
    {
      "cell_type": "code",
      "execution_count": null,
      "metadata": {
        "id": "eJwqXkCXjOF2"
      },
      "outputs": [],
      "source": [
        "import tensorflow as tf"
      ]
    },
    {
      "cell_type": "code",
      "execution_count": null,
      "metadata": {
        "colab": {
          "base_uri": "https://localhost:8080/"
        },
        "id": "VNahqkpgjOF2",
        "outputId": "ede1faef-fc58-4dd6-f4a5-b0c837e6e688"
      },
      "outputs": [
        {
          "output_type": "execute_result",
          "data": {
            "text/plain": [
              "(64, 9)"
            ]
          },
          "metadata": {},
          "execution_count": 44
        }
      ],
      "source": [
        "len(X_train[0]), np.max(y_train)"
      ]
    },
    {
      "cell_type": "code",
      "execution_count": null,
      "metadata": {
        "id": "Fn_QnCz3jOF2"
      },
      "outputs": [],
      "source": [
        "def digits_model():\n",
        "    X = tf.keras.Input(shape=(64,))\n",
        "    layer = tf.keras.layers.Dense(10, activation='sigmoid', kernel_initializer='he_normal', bias_initializer='zeros')(X)\n",
        "    outputs = tf.keras.layers.Dense(10, activation='softmax')(layer)\n",
        "    model = tf.keras.Model(inputs=X, outputs=[outputs])\n",
        "    return model"
      ]
    },
    {
      "cell_type": "code",
      "execution_count": null,
      "metadata": {
        "id": "LW-WP4-HjOF2"
      },
      "outputs": [],
      "source": [
        "def training(X_train, y_train, epochs=15, learning_rate=0.1):\n",
        "    model = digits_model()\n",
        "    opt = tf.keras.optimizers.Adam(learning_rate=learning_rate, beta_1=0.9, beta_2=0.999)\n",
        "    model.compile(optimizer=opt, loss='categorical_crossentropy', metrics=['categorical_accuracy']) # accuracy\n",
        "    history = model.fit(X_train, y_train, epochs=epochs, batch_size=32, verbose=1)\n",
        "    return model, history"
      ]
    },
    {
      "cell_type": "code",
      "execution_count": null,
      "metadata": {
        "scrolled": true,
        "colab": {
          "base_uri": "https://localhost:8080/"
        },
        "id": "sxx62hapjOF2",
        "outputId": "6e47315c-49fe-477a-a206-d2d269d4e08e"
      },
      "outputs": [
        {
          "output_type": "stream",
          "name": "stdout",
          "text": [
            "Epoch 1/15\n",
            "48/48 [==============================] - 1s 2ms/step - loss: 0.8066 - categorical_accuracy: 0.7649\n",
            "Epoch 2/15\n",
            "48/48 [==============================] - 0s 2ms/step - loss: 0.2320 - categorical_accuracy: 0.9411\n",
            "Epoch 3/15\n",
            "48/48 [==============================] - 0s 3ms/step - loss: 0.1798 - categorical_accuracy: 0.9470\n",
            "Epoch 4/15\n",
            "48/48 [==============================] - 0s 2ms/step - loss: 0.1385 - categorical_accuracy: 0.9620\n",
            "Epoch 5/15\n",
            "48/48 [==============================] - 0s 3ms/step - loss: 0.1411 - categorical_accuracy: 0.9587\n",
            "Epoch 6/15\n",
            "48/48 [==============================] - 0s 2ms/step - loss: 0.1301 - categorical_accuracy: 0.9653\n",
            "Epoch 7/15\n",
            "48/48 [==============================] - 0s 3ms/step - loss: 0.0955 - categorical_accuracy: 0.9758\n",
            "Epoch 8/15\n",
            "48/48 [==============================] - 0s 2ms/step - loss: 0.1017 - categorical_accuracy: 0.9705\n",
            "Epoch 9/15\n",
            "48/48 [==============================] - 0s 2ms/step - loss: 0.1084 - categorical_accuracy: 0.9633\n",
            "Epoch 10/15\n",
            "48/48 [==============================] - 0s 2ms/step - loss: 0.1170 - categorical_accuracy: 0.9627\n",
            "Epoch 11/15\n",
            "48/48 [==============================] - 0s 3ms/step - loss: 0.0993 - categorical_accuracy: 0.9673\n",
            "Epoch 12/15\n",
            "48/48 [==============================] - 0s 2ms/step - loss: 0.0793 - categorical_accuracy: 0.9771\n",
            "Epoch 13/15\n",
            "48/48 [==============================] - 0s 2ms/step - loss: 0.0697 - categorical_accuracy: 0.9797\n",
            "Epoch 14/15\n",
            "48/48 [==============================] - 0s 2ms/step - loss: 0.0737 - categorical_accuracy: 0.9764\n",
            "Epoch 15/15\n",
            "48/48 [==============================] - 0s 3ms/step - loss: 0.0619 - categorical_accuracy: 0.9790\n"
          ]
        }
      ],
      "source": [
        "y_true = one_hot(10, y_train)\n",
        "model, history = training(X_train, y_true)"
      ]
    },
    {
      "cell_type": "code",
      "execution_count": null,
      "metadata": {
        "scrolled": true,
        "colab": {
          "base_uri": "https://localhost:8080/"
        },
        "id": "LfxXOt2ajOF2",
        "outputId": "c27c5c56-094e-4758-aefb-28893ebe1578"
      },
      "outputs": [
        {
          "output_type": "stream",
          "name": "stdout",
          "text": [
            "9/9 [==============================] - 0s 2ms/step\n",
            "[4.2552296e-07 5.5962810e-05 3.4798140e-05 7.1136110e-06 6.2539351e-09\n",
            " 6.0030716e-06 7.5266056e-05 6.1026022e-08 9.9980903e-01 1.1461516e-05]\n",
            "8\n"
          ]
        }
      ],
      "source": [
        "y_test_42_preds = model.predict(X_test)[42]\n",
        "y_test_42_true = y_test[42]\n",
        "print(y_test_42_preds)\n",
        "print(y_test_42_true)"
      ]
    },
    {
      "cell_type": "code",
      "execution_count": null,
      "metadata": {
        "scrolled": true,
        "colab": {
          "base_uri": "https://localhost:8080/"
        },
        "id": "-PZuLQAUjOF3",
        "outputId": "2a40f341-ea49-4444-920f-243dee60f828"
      },
      "outputs": [
        {
          "output_type": "stream",
          "name": "stdout",
          "text": [
            "9/9 [==============================] - 0s 2ms/step\n"
          ]
        },
        {
          "output_type": "execute_result",
          "data": {
            "text/plain": [
              "0.0001899780472740531"
            ]
          },
          "metadata": {},
          "execution_count": 49
        }
      ],
      "source": [
        "preds = model.predict(X_test)[42]\n",
        "nll(one_hot(10, y_test[42]), preds)"
      ]
    },
    {
      "cell_type": "code",
      "execution_count": null,
      "metadata": {
        "colab": {
          "base_uri": "https://localhost:8080/"
        },
        "id": "zLRg0nY1jOF3",
        "outputId": "8844f623-4153-47f8-d72e-0e8b6e69c65d"
      },
      "outputs": [
        {
          "output_type": "stream",
          "name": "stdout",
          "text": [
            "9/9 [==============================] - 0s 2ms/step\n"
          ]
        },
        {
          "output_type": "execute_result",
          "data": {
            "text/plain": [
              "0.3642256642317214"
            ]
          },
          "metadata": {},
          "execution_count": 50
        }
      ],
      "source": [
        "preds = model.predict(X_test)\n",
        "np.mean(nll(one_hot(10, y_test), preds)) # avg nll"
      ]
    },
    {
      "cell_type": "code",
      "execution_count": null,
      "metadata": {
        "colab": {
          "base_uri": "https://localhost:8080/"
        },
        "id": "iZ43ukzbjOF3",
        "outputId": "a3b0a790-1fc0-4c45-db22-747ee3e12bd8"
      },
      "outputs": [
        {
          "output_type": "stream",
          "name": "stdout",
          "text": [
            "48/48 [==============================] - 0s 1ms/step\n"
          ]
        },
        {
          "output_type": "execute_result",
          "data": {
            "text/plain": [
              "0.08038066293892988"
            ]
          },
          "metadata": {},
          "execution_count": 51
        }
      ],
      "source": [
        "preds = model.predict(X_train)\n",
        "np.mean(nll(one_hot(10, y_train), preds)) # avg nll"
      ]
    },
    {
      "cell_type": "code",
      "execution_count": null,
      "metadata": {
        "colab": {
          "base_uri": "https://localhost:8080/"
        },
        "id": "WyFNyomgjOF3",
        "outputId": "4350be07-325c-48e7-c882-324ddf9688aa"
      },
      "outputs": [
        {
          "output_type": "execute_result",
          "data": {
            "text/plain": [
              "0.16231227442622184"
            ]
          },
          "metadata": {},
          "execution_count": 52
        }
      ],
      "source": [
        "np.mean(history.history['loss']) # not same loss as nll as it use categorical cross entropy"
      ]
    },
    {
      "cell_type": "code",
      "execution_count": null,
      "metadata": {
        "scrolled": true,
        "colab": {
          "base_uri": "https://localhost:8080/"
        },
        "id": "KnHl6YmxjOF3",
        "outputId": "16498ed5-0591-4dfc-b7ed-75f3022ff059"
      },
      "outputs": [
        {
          "output_type": "stream",
          "name": "stdout",
          "text": [
            "Epoch 1/50\n",
            "48/48 [==============================] - 1s 2ms/step - loss: 0.8741 - categorical_accuracy: 0.7531\n",
            "Epoch 2/50\n",
            "48/48 [==============================] - 0s 2ms/step - loss: 0.2635 - categorical_accuracy: 0.9299\n",
            "Epoch 3/50\n",
            "48/48 [==============================] - 0s 2ms/step - loss: 0.1993 - categorical_accuracy: 0.9417\n",
            "Epoch 4/50\n",
            "48/48 [==============================] - 0s 2ms/step - loss: 0.1568 - categorical_accuracy: 0.9587\n",
            "Epoch 5/50\n",
            "48/48 [==============================] - 0s 2ms/step - loss: 0.1297 - categorical_accuracy: 0.9581\n",
            "Epoch 6/50\n",
            "48/48 [==============================] - 0s 2ms/step - loss: 0.1218 - categorical_accuracy: 0.9627\n",
            "Epoch 7/50\n",
            "48/48 [==============================] - 0s 2ms/step - loss: 0.0922 - categorical_accuracy: 0.9731\n",
            "Epoch 8/50\n",
            "48/48 [==============================] - 0s 2ms/step - loss: 0.0962 - categorical_accuracy: 0.9731\n",
            "Epoch 9/50\n",
            "48/48 [==============================] - 0s 2ms/step - loss: 0.1223 - categorical_accuracy: 0.9627\n",
            "Epoch 10/50\n",
            "48/48 [==============================] - 0s 2ms/step - loss: 0.0993 - categorical_accuracy: 0.9745\n",
            "Epoch 11/50\n",
            "48/48 [==============================] - 0s 2ms/step - loss: 0.0884 - categorical_accuracy: 0.9745\n",
            "Epoch 12/50\n",
            "48/48 [==============================] - 0s 2ms/step - loss: 0.0902 - categorical_accuracy: 0.9764\n",
            "Epoch 13/50\n",
            "48/48 [==============================] - 0s 2ms/step - loss: 0.0682 - categorical_accuracy: 0.9830\n",
            "Epoch 14/50\n",
            "48/48 [==============================] - 0s 2ms/step - loss: 0.0685 - categorical_accuracy: 0.9804\n",
            "Epoch 15/50\n",
            "48/48 [==============================] - 0s 2ms/step - loss: 0.0565 - categorical_accuracy: 0.9830\n",
            "Epoch 16/50\n",
            "48/48 [==============================] - 0s 2ms/step - loss: 0.0650 - categorical_accuracy: 0.9836\n",
            "Epoch 17/50\n",
            "48/48 [==============================] - 0s 2ms/step - loss: 0.0775 - categorical_accuracy: 0.9784\n",
            "Epoch 18/50\n",
            "48/48 [==============================] - 0s 2ms/step - loss: 0.0499 - categorical_accuracy: 0.9830\n",
            "Epoch 19/50\n",
            "48/48 [==============================] - 0s 2ms/step - loss: 0.0623 - categorical_accuracy: 0.9836\n",
            "Epoch 20/50\n",
            "48/48 [==============================] - 0s 2ms/step - loss: 0.0674 - categorical_accuracy: 0.9771\n",
            "Epoch 21/50\n",
            "48/48 [==============================] - 0s 2ms/step - loss: 0.0519 - categorical_accuracy: 0.9810\n",
            "Epoch 22/50\n",
            "48/48 [==============================] - 0s 2ms/step - loss: 0.0546 - categorical_accuracy: 0.9823\n",
            "Epoch 23/50\n",
            "48/48 [==============================] - 0s 2ms/step - loss: 0.0465 - categorical_accuracy: 0.9817\n",
            "Epoch 24/50\n",
            "48/48 [==============================] - 0s 2ms/step - loss: 0.0331 - categorical_accuracy: 0.9895\n",
            "Epoch 25/50\n",
            "48/48 [==============================] - 0s 2ms/step - loss: 0.0401 - categorical_accuracy: 0.9869\n",
            "Epoch 26/50\n",
            "48/48 [==============================] - 0s 2ms/step - loss: 0.0488 - categorical_accuracy: 0.9862\n",
            "Epoch 27/50\n",
            "48/48 [==============================] - 0s 3ms/step - loss: 0.0711 - categorical_accuracy: 0.9777\n",
            "Epoch 28/50\n",
            "48/48 [==============================] - 0s 2ms/step - loss: 0.0809 - categorical_accuracy: 0.9764\n",
            "Epoch 29/50\n",
            "48/48 [==============================] - 0s 2ms/step - loss: 0.0629 - categorical_accuracy: 0.9804\n",
            "Epoch 30/50\n",
            "48/48 [==============================] - 0s 2ms/step - loss: 0.0809 - categorical_accuracy: 0.9758\n",
            "Epoch 31/50\n",
            "48/48 [==============================] - 0s 2ms/step - loss: 0.1239 - categorical_accuracy: 0.9581\n",
            "Epoch 32/50\n",
            "48/48 [==============================] - 0s 2ms/step - loss: 0.1634 - categorical_accuracy: 0.9496\n",
            "Epoch 33/50\n",
            "48/48 [==============================] - 0s 2ms/step - loss: 0.0871 - categorical_accuracy: 0.9758\n",
            "Epoch 34/50\n",
            "48/48 [==============================] - 0s 3ms/step - loss: 0.0706 - categorical_accuracy: 0.9797\n",
            "Epoch 35/50\n",
            "48/48 [==============================] - 0s 2ms/step - loss: 0.0709 - categorical_accuracy: 0.9790\n",
            "Epoch 36/50\n",
            "48/48 [==============================] - 0s 2ms/step - loss: 0.0572 - categorical_accuracy: 0.9830\n",
            "Epoch 37/50\n",
            "48/48 [==============================] - 0s 3ms/step - loss: 0.0892 - categorical_accuracy: 0.9777\n",
            "Epoch 38/50\n",
            "48/48 [==============================] - 0s 2ms/step - loss: 0.0598 - categorical_accuracy: 0.9843\n",
            "Epoch 39/50\n",
            "48/48 [==============================] - 0s 2ms/step - loss: 0.0602 - categorical_accuracy: 0.9817\n",
            "Epoch 40/50\n",
            "48/48 [==============================] - 0s 2ms/step - loss: 0.0949 - categorical_accuracy: 0.9758\n",
            "Epoch 41/50\n",
            "48/48 [==============================] - 0s 2ms/step - loss: 0.1055 - categorical_accuracy: 0.9731\n",
            "Epoch 42/50\n",
            "48/48 [==============================] - 0s 2ms/step - loss: 0.1142 - categorical_accuracy: 0.9640\n",
            "Epoch 43/50\n",
            "48/48 [==============================] - 0s 2ms/step - loss: 0.0880 - categorical_accuracy: 0.9699\n",
            "Epoch 44/50\n",
            "48/48 [==============================] - 0s 2ms/step - loss: 0.0626 - categorical_accuracy: 0.9777\n",
            "Epoch 45/50\n",
            "48/48 [==============================] - 0s 2ms/step - loss: 0.0417 - categorical_accuracy: 0.9843\n",
            "Epoch 46/50\n",
            "48/48 [==============================] - 0s 2ms/step - loss: 0.0239 - categorical_accuracy: 0.9928\n",
            "Epoch 47/50\n",
            "48/48 [==============================] - 0s 2ms/step - loss: 0.0181 - categorical_accuracy: 0.9948\n",
            "Epoch 48/50\n",
            "48/48 [==============================] - 0s 2ms/step - loss: 0.0229 - categorical_accuracy: 0.9928\n",
            "Epoch 49/50\n",
            "48/48 [==============================] - 0s 2ms/step - loss: 0.0236 - categorical_accuracy: 0.9954\n",
            "Epoch 50/50\n",
            "48/48 [==============================] - 0s 2ms/step - loss: 0.0198 - categorical_accuracy: 0.9948\n"
          ]
        }
      ],
      "source": [
        "model_2, history_2 = training(X_train, y_true, epochs=50)"
      ]
    },
    {
      "cell_type": "code",
      "execution_count": null,
      "metadata": {
        "colab": {
          "base_uri": "https://localhost:8080/"
        },
        "id": "qQ6L_0GOjOF3",
        "outputId": "d1959784-78ee-4259-c53d-a98ebc8de770"
      },
      "outputs": [
        {
          "output_type": "stream",
          "name": "stdout",
          "text": [
            "9/9 [==============================] - 0s 2ms/step - loss: 0.1765 - categorical_accuracy: 0.9667\n"
          ]
        },
        {
          "output_type": "execute_result",
          "data": {
            "text/plain": [
              "[0.17645351588726044, 0.9666666388511658]"
            ]
          },
          "metadata": {},
          "execution_count": 54
        }
      ],
      "source": [
        "model_2.evaluate(X_test, one_hot(10, y_test)) # model is not overfitting as test_acc is large 94% else will be small\n",
        "# train acc are good so not underfitting "
      ]
    },
    {
      "cell_type": "code",
      "execution_count": null,
      "metadata": {
        "id": "5eLX0EG0jOF3"
      },
      "outputs": [],
      "source": [
        "# %load solutions/keras_model.py"
      ]
    },
    {
      "cell_type": "code",
      "execution_count": null,
      "metadata": {
        "id": "yCWtHUlZjOF4"
      },
      "outputs": [],
      "source": [
        "# %load solutions/keras_model_test_loss.py"
      ]
    }
  ],
  "metadata": {
    "kernelspec": {
      "display_name": "Python 3 (ipykernel)",
      "language": "python",
      "name": "python3"
    },
    "language_info": {
      "codemirror_mode": {
        "name": "ipython",
        "version": 3
      },
      "file_extension": ".py",
      "mimetype": "text/x-python",
      "name": "python",
      "nbconvert_exporter": "python",
      "pygments_lexer": "ipython3",
      "version": "3.9.12"
    },
    "nteract": {
      "version": "0.28.0"
    },
    "colab": {
      "provenance": []
    }
  },
  "nbformat": 4,
  "nbformat_minor": 0
}